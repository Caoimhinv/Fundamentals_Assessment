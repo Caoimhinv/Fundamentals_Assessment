{
 "cells": [
  {
   "cell_type": "markdown",
   "id": "97d91e32-f82e-4db3-866e-5464fcc9a521",
   "metadata": {
    "tags": []
   },
   "source": [
    "# Fundamentals of Data Analysis Assignment\n",
    "## Autumn 2021\n",
    "\n",
    "---\n",
    "<br>\n",
    "\n",
    "## Part 2 - CAO points\n",
    "\n",
    "![CAO_logo](./Images/cao.png)\n",
    "---"
   ]
  },
  {
   "cell_type": "markdown",
   "id": "49e3086f-5939-48be-8058-98b0d565fcd5",
   "metadata": {},
   "source": [
    "<br>\n",
    "\n",
    "# A comparison of CAO points in 2019, 2020, and 2021"
   ]
  },
  {
   "cell_type": "markdown",
   "id": "040cf14d-8cb5-4972-aa37-99b090826f1f",
   "metadata": {},
   "source": [
    "The brief was to analyse the CAO points for the years 2019, 2020, and 2021. The main tasks were to download the data from the CAO website, clean it, then analyse the data using pandas and to use visualisations to help better explain this analysis."
   ]
  },
  {
   "cell_type": "markdown",
   "id": "98cf9ae0-ef75-4e18-9290-d76224d82583",
   "metadata": {},
   "source": [
    "<br>\n",
    "\n",
    "---\n",
    "\n",
    "### Downloading the data\n",
    "\n",
    "---"
   ]
  },
  {
   "cell_type": "markdown",
   "id": "b5bb498b-914e-4c5a-8c9e-a1be22e58a83",
   "metadata": {
    "tags": []
   },
   "source": [
    "The data can be found at the following links which we save as variables to be used later."
   ]
  },
  {
   "cell_type": "code",
   "execution_count": 1,
   "id": "36725811-5ed8-424b-8a95-fae31f9d2f32",
   "metadata": {},
   "outputs": [],
   "source": [
    "url2021 = 'http://www2.cao.ie/points/l8.php'\n",
    "url2020 = 'http://www2.cao.ie/points/CAOPointsCharts2020.xlsx'\n",
    "url2019 = 'http://www2.cao.ie/points/lvl8_19.pdf'"
   ]
  },
  {
   "cell_type": "markdown",
   "id": "1ba7ec04-909a-4675-a188-a6edf37d641a",
   "metadata": {},
   "source": [
    "A quick glance at the file extensions tells us we are dealing with three different file types so scraping the data is going to involve a few different methods.\n",
    "To begin we import all the necessary libraries for the analysis and visualisations. These are shortened as per convention and economy of space."
   ]
  },
  {
   "cell_type": "code",
   "execution_count": 2,
   "id": "a4b7a22c-cfc0-451d-a132-6fc2aac232c6",
   "metadata": {},
   "outputs": [],
   "source": [
    "# basic data analysis\n",
    "import pandas as pd\n",
    "\n",
    "# numerical arrays\n",
    "import numpy as np\n",
    "\n",
    "# plotting\n",
    "import matplotlib.pyplot as plt\n",
    "\n",
    "# Dates and times\n",
    "import datetime as dt\n",
    "\n",
    "# Regular expressions\n",
    "import re\n",
    "\n",
    "# HTTP requests\n",
    "import requests as rq\n",
    "\n",
    "# for downloading and saving excel file\n",
    "import urllib.request as urlrq\n",
    "\n",
    "# working with csv files\n",
    "import csv\n",
    "\n",
    "# for pdf files\n",
    "import tabula"
   ]
  },
  {
   "cell_type": "markdown",
   "id": "a66700dc-c18c-4f26-b5d4-53e4feb61c17",
   "metadata": {},
   "source": [
    "We're going to use a timestamp to name the different updates of each downloaded and saved file. We use the `datetime` library for the current date and time which is then converted into a string using the `strftime` method. `%Y%m%d_%H%M%S` specifies the format we want the date/time in."
   ]
  },
  {
   "cell_type": "code",
   "execution_count": 3,
   "id": "dc134d2d-4e5c-4508-b718-3f46731b8592",
   "metadata": {},
   "outputs": [],
   "source": [
    "# get the current date and time\n",
    "now = dt.datetime.now()\n",
    "\n",
    "# format as a string\n",
    "nowstr = now.strftime('%Y%m%d_%H%M%S')"
   ]
  },
  {
   "cell_type": "markdown",
   "id": "b2e517a0-3397-4b80-afce-5bfdd48c801d",
   "metadata": {},
   "source": [
    "<br>\n",
    "\n",
    "---\n",
    "\n",
    "## 2021 Points\n",
    "\n",
    "---"
   ]
  },
  {
   "cell_type": "markdown",
   "id": "0420caa9-ef8c-4641-a3e7-390d251f1483",
   "metadata": {},
   "source": [
    "The url - http://www2.cao.ie/points/l8.php - returns a php page with text and some internal hyperlinks. For analysis we need to download the text, extract only the information we need, and then convert it to a csv file. The first part of code below uses the `requests` library to fetch the data. A path is created using the stringified datetime preceded by the folder `data` and 'CAO2021'. This timestamp will serve a dual purpose as the data from 2021 is still being updated (at time of writing)."
   ]
  },
  {
   "cell_type": "code",
   "execution_count": 4,
   "id": "5cd092e4-5107-44f7-89e3-003574600cfb",
   "metadata": {},
   "outputs": [
    {
     "data": {
      "text/plain": [
       "<Response [200]>"
      ]
     },
     "execution_count": 4,
     "metadata": {},
     "output_type": "execute_result"
    }
   ],
   "source": [
    "# fetch the cao url\n",
    "resp = rq.get(url2021)\n",
    "\n",
    "# Create a filepath for the original data using the datetime\n",
    "path2021 = 'data/CAO2021_' + nowstr + '.html'\n",
    "\n",
    "# confirm it's working (if we get a '200' response message)\n",
    "resp"
   ]
  },
  {
   "cell_type": "markdown",
   "id": "3693534e-2810-4df9-81b5-a4d735485365",
   "metadata": {},
   "source": [
    "We then save the original file with the following code. "
   ]
  },
  {
   "cell_type": "code",
   "execution_count": 5,
   "id": "5678ddbb-4b38-434a-b052-c8911bc5c490",
   "metadata": {},
   "outputs": [],
   "source": [
    "# save the original html file\n",
    "with open(path2021, 'w') as f:\n",
    "    f.write(resp.text)"
   ]
  },
  {
   "cell_type": "markdown",
   "id": "df178d00-b773-42d1-9de5-8e6065ce9b4a",
   "metadata": {},
   "source": [
    "During the lectures it was discovered that some characters weren't being displayed properly. The issues lay with the fadas in the Irish language words, plus a stray 'em' hyphen. The server stated that the page should be decoded with **iso-8859-1** but this didn't allow for these particular characters. We changed the decoding to **cp1252** which solved the issue."
   ]
  },
  {
   "cell_type": "code",
   "execution_count": 6,
   "id": "5ca146bd-73ce-44dc-b0ba-9ab868776abe",
   "metadata": {},
   "outputs": [],
   "source": [
    "# the server uses the wrong encoding, fix it\n",
    "original_encoding = resp.encoding\n",
    "\n",
    "# change to cp1252\n",
    "resp.encoding = 'cp1252'"
   ]
  },
  {
   "cell_type": "markdown",
   "id": "007a751a-984b-418b-8ca0-5c4a85984507",
   "metadata": {
    "tags": []
   },
   "source": [
    "<br>\n",
    "\n",
    "#### Using regular expressions to isolate the data we want"
   ]
  },
  {
   "cell_type": "markdown",
   "id": "de3dd517-8abd-4896-874d-312cdd4511fc",
   "metadata": {
    "tags": []
   },
   "source": [
    "On inspection the file contains a lot of information we don't need for the analysis such as headings, links, college names, etc., so the next challenge was to isolate only what was needed, i.e. 1) course code 2) course name 3) points.\n",
    "The following code uses a **regular expression** to identify only the lines that match the expression.\n",
    "- `([A-Z]{2}[0-9]{3})` = represents course code - i.e. CW078\n",
    "- followed by 2 spaces\n",
    "- `(.*)` represents an amount of text. The dot `.` serves as a wildcard and the `*` means zero or more of."
   ]
  },
  {
   "cell_type": "code",
   "execution_count": 7,
   "id": "803fdc29-99f6-4917-bb63-487c6dfb1d3d",
   "metadata": {},
   "outputs": [],
   "source": [
    "# compile the regular expression for matching lines\n",
    "re_course = re.compile(r'([A-Z]{2}[0-9]{3})(.*)')"
   ]
  },
  {
   "cell_type": "markdown",
   "id": "96985717-4e44-445e-85c4-f70bb58cae55",
   "metadata": {},
   "source": [
    "We create a new path for saving the extracted data as a csv file."
   ]
  },
  {
   "cell_type": "code",
   "execution_count": 8,
   "id": "d07185ef-bd07-4207-82b1-f7abb95fa9b6",
   "metadata": {},
   "outputs": [],
   "source": [
    "# path for csv file\n",
    "path2021b = 'data/CAO2021_csv_' + nowstr + '.csv'"
   ]
  },
  {
   "cell_type": "markdown",
   "id": "35fce27e-c453-437d-a451-5961181cca24",
   "metadata": {
    "tags": []
   },
   "source": [
    "We then loop through these lines and save then to a csv file to be also stored in the `data` folder. "
   ]
  },
  {
   "cell_type": "code",
   "execution_count": 9,
   "id": "132a6c79-20d8-42dc-852e-0c47166232ac",
   "metadata": {
    "scrolled": true,
    "tags": []
   },
   "outputs": [],
   "source": [
    "# keep track of courses\n",
    "no_lines = 0\n",
    "\n",
    "with open(path2021b, 'w') as f:\n",
    "    # write a header row\n",
    "    f.write(','.join([\"Course_Code\", \"Course_Title\", \"PointsR1_2021\", \"PointsR2_2021\"]) + '\\n')\n",
    "    \n",
    "    # loop through lines of response\n",
    "    for line in resp.iter_lines():\n",
    "        \n",
    "        # decode to cp1252\n",
    "        dline = line.decode('cp1252')\n",
    "        \n",
    "        # match only the lines we want, i.e. those representing courses\n",
    "        if re_course.fullmatch(dline):\n",
    "            \n",
    "            # add to line counter\n",
    "            no_lines = no_lines + 1\n",
    "            \n",
    "            # course code (first 5 characters)\n",
    "            course_code = dline[:5]\n",
    "            \n",
    "            # course_title\n",
    "            course_title = dline[7:57].strip()\n",
    "            \n",
    "            # round 1 points\n",
    "            course_points = re.split(' +', dline[60:])\n",
    "            \n",
    "            if len(course_points) != 2:\n",
    "                course_points = course_points[:2]\n",
    "                \n",
    "            # split the line on 2 spaces or more\n",
    "            linesplit = (course_code, course_title, course_points[0], course_points[1])\n",
    "            \n",
    "            # join the fields using a comma\n",
    "            f.write(','.join(linesplit) + '\\n')"
   ]
  },
  {
   "cell_type": "markdown",
   "id": "85b840c6-4e70-4fcc-953d-3ec2e1db1fa9",
   "metadata": {
    "tags": []
   },
   "source": [
    "Just to confirm we have every line we need, we print out the total number of lines and then try to verify that online. "
   ]
  },
  {
   "cell_type": "code",
   "execution_count": 10,
   "id": "f107c8a6-6348-409b-a2a9-3918d1e901a6",
   "metadata": {},
   "outputs": [
    {
     "name": "stdout",
     "output_type": "stream",
     "text": [
      "Total number of lines is 949.\n"
     ]
    }
   ],
   "source": [
    "# prints the total number of lines    \n",
    "print(f\"Total number of lines is {no_lines}.\")"
   ]
  },
  {
   "cell_type": "markdown",
   "id": "7385e335-ed82-4353-8e6b-f00b9b973841",
   "metadata": {},
   "source": [
    "**N.B.** It was verified on 8/11 against the original data and we're good!"
   ]
  },
  {
   "cell_type": "markdown",
   "id": "7ec493e4-2253-42d0-87b7-0c440430faea",
   "metadata": {},
   "source": [
    "We open the new csv file with the `pandas` package to inspect."
   ]
  },
  {
   "cell_type": "code",
   "execution_count": 11,
   "id": "76bab825-16ba-4a78-9298-5d7511c97345",
   "metadata": {},
   "outputs": [
    {
     "data": {
      "text/html": [
       "<div>\n",
       "<style scoped>\n",
       "    .dataframe tbody tr th:only-of-type {\n",
       "        vertical-align: middle;\n",
       "    }\n",
       "\n",
       "    .dataframe tbody tr th {\n",
       "        vertical-align: top;\n",
       "    }\n",
       "\n",
       "    .dataframe thead th {\n",
       "        text-align: right;\n",
       "    }\n",
       "</style>\n",
       "<table border=\"1\" class=\"dataframe\">\n",
       "  <thead>\n",
       "    <tr style=\"text-align: right;\">\n",
       "      <th></th>\n",
       "      <th>Course_Code</th>\n",
       "      <th>Course_Title</th>\n",
       "      <th>PointsR1_2021</th>\n",
       "      <th>PointsR2_2021</th>\n",
       "    </tr>\n",
       "  </thead>\n",
       "  <tbody>\n",
       "    <tr>\n",
       "      <th>0</th>\n",
       "      <td>AL801</td>\n",
       "      <td>Software Design for Virtual Reality and Gaming</td>\n",
       "      <td>300</td>\n",
       "      <td>NaN</td>\n",
       "    </tr>\n",
       "    <tr>\n",
       "      <th>1</th>\n",
       "      <td>AL802</td>\n",
       "      <td>Software Design in Artificial Intelligence for...</td>\n",
       "      <td>313</td>\n",
       "      <td>NaN</td>\n",
       "    </tr>\n",
       "    <tr>\n",
       "      <th>2</th>\n",
       "      <td>AL803</td>\n",
       "      <td>Software Design for Mobile Apps and Connected ...</td>\n",
       "      <td>350</td>\n",
       "      <td>NaN</td>\n",
       "    </tr>\n",
       "    <tr>\n",
       "      <th>3</th>\n",
       "      <td>AL805</td>\n",
       "      <td>Computer Engineering for Network Infrastructure</td>\n",
       "      <td>321</td>\n",
       "      <td>NaN</td>\n",
       "    </tr>\n",
       "    <tr>\n",
       "      <th>4</th>\n",
       "      <td>AL810</td>\n",
       "      <td>Quantity Surveying</td>\n",
       "      <td>328</td>\n",
       "      <td>NaN</td>\n",
       "    </tr>\n",
       "    <tr>\n",
       "      <th>5</th>\n",
       "      <td>AL811</td>\n",
       "      <td>Civil Engineering</td>\n",
       "      <td>NaN</td>\n",
       "      <td>NaN</td>\n",
       "    </tr>\n",
       "    <tr>\n",
       "      <th>6</th>\n",
       "      <td>AL820</td>\n",
       "      <td>Mechanical and Polymer Engineering</td>\n",
       "      <td>327</td>\n",
       "      <td>NaN</td>\n",
       "    </tr>\n",
       "    <tr>\n",
       "      <th>7</th>\n",
       "      <td>AL830</td>\n",
       "      <td>General Nursing</td>\n",
       "      <td>451*</td>\n",
       "      <td>444</td>\n",
       "    </tr>\n",
       "    <tr>\n",
       "      <th>8</th>\n",
       "      <td>AL832</td>\n",
       "      <td>Mental Health Nursing</td>\n",
       "      <td>440*</td>\n",
       "      <td>431</td>\n",
       "    </tr>\n",
       "    <tr>\n",
       "      <th>9</th>\n",
       "      <td>AL835</td>\n",
       "      <td>Pharmacology</td>\n",
       "      <td>356</td>\n",
       "      <td>NaN</td>\n",
       "    </tr>\n",
       "  </tbody>\n",
       "</table>\n",
       "</div>"
      ],
      "text/plain": [
       "  Course_Code                                       Course_Title  \\\n",
       "0       AL801     Software Design for Virtual Reality and Gaming   \n",
       "1       AL802  Software Design in Artificial Intelligence for...   \n",
       "2       AL803  Software Design for Mobile Apps and Connected ...   \n",
       "3       AL805    Computer Engineering for Network Infrastructure   \n",
       "4       AL810                                 Quantity Surveying   \n",
       "5       AL811                                  Civil Engineering   \n",
       "6       AL820                 Mechanical and Polymer Engineering   \n",
       "7       AL830                                    General Nursing   \n",
       "8       AL832                              Mental Health Nursing   \n",
       "9       AL835                                       Pharmacology   \n",
       "\n",
       "  PointsR1_2021 PointsR2_2021  \n",
       "0           300           NaN  \n",
       "1           313           NaN  \n",
       "2           350           NaN  \n",
       "3           321           NaN  \n",
       "4           328           NaN  \n",
       "5           NaN           NaN  \n",
       "6           327           NaN  \n",
       "7          451*           444  \n",
       "8          440*           431  \n",
       "9           356           NaN  "
      ]
     },
     "execution_count": 11,
     "metadata": {},
     "output_type": "execute_result"
    }
   ],
   "source": [
    "# open the csv file and save to variable df2021\n",
    "df2021 = pd.read_csv(path2021b, encoding='cp1252') \n",
    "\n",
    "# have a look at the first 10 rows\n",
    "df2021.head(10)"
   ]
  },
  {
   "cell_type": "markdown",
   "id": "5d55df1c-033b-4b1b-ae21-64fce0a50eae",
   "metadata": {},
   "source": [
    "We can see straight away a few potential issues! A lot of NaN values and some asterisks beside numbers. We use the `.info()` method to get an overview of the data."
   ]
  },
  {
   "cell_type": "code",
   "execution_count": 12,
   "id": "66ad4fd4-0b5c-4b55-9a63-0470f22e5b0f",
   "metadata": {},
   "outputs": [
    {
     "name": "stdout",
     "output_type": "stream",
     "text": [
      "<class 'pandas.core.frame.DataFrame'>\n",
      "RangeIndex: 949 entries, 0 to 948\n",
      "Data columns (total 4 columns):\n",
      " #   Column         Non-Null Count  Dtype \n",
      "---  ------         --------------  ----- \n",
      " 0   Course_Code    949 non-null    object\n",
      " 1   Course_Title   949 non-null    object\n",
      " 2   PointsR1_2021  928 non-null    object\n",
      " 3   PointsR2_2021  258 non-null    object\n",
      "dtypes: object(4)\n",
      "memory usage: 29.8+ KB\n"
     ]
    }
   ],
   "source": [
    "df2021.info()"
   ]
  },
  {
   "cell_type": "markdown",
   "id": "8e8e18f6-276b-49b5-87c4-da4e702549b2",
   "metadata": {},
   "source": [
    "We have no null values which is good but all of the points are of datatype object. We need to change that to numeric values so we can carry out analysis. \n",
    "\n",
    "We'll deal with the astericks, etc. in the points fields first. This solution is based on - https://pretagteam.com/question/remove-characters-from-pandas-column. By looking through the dataset I've identified all of the things I want to remove and replace them with blank space."
   ]
  },
  {
   "cell_type": "code",
   "execution_count": 13,
   "id": "409c5d39-4a35-4b2a-a468-a076e8c7c251",
   "metadata": {},
   "outputs": [
    {
     "data": {
      "text/html": [
       "<div>\n",
       "<style scoped>\n",
       "    .dataframe tbody tr th:only-of-type {\n",
       "        vertical-align: middle;\n",
       "    }\n",
       "\n",
       "    .dataframe tbody tr th {\n",
       "        vertical-align: top;\n",
       "    }\n",
       "\n",
       "    .dataframe thead th {\n",
       "        text-align: right;\n",
       "    }\n",
       "</style>\n",
       "<table border=\"1\" class=\"dataframe\">\n",
       "  <thead>\n",
       "    <tr style=\"text-align: right;\">\n",
       "      <th></th>\n",
       "      <th>Course_Code</th>\n",
       "      <th>Course_Title</th>\n",
       "      <th>PointsR1_2021</th>\n",
       "      <th>PointsR2_2021</th>\n",
       "    </tr>\n",
       "  </thead>\n",
       "  <tbody>\n",
       "    <tr>\n",
       "      <th>0</th>\n",
       "      <td>AL801</td>\n",
       "      <td>Software Design for Virtual Reality and Gaming</td>\n",
       "      <td>300</td>\n",
       "      <td>NaN</td>\n",
       "    </tr>\n",
       "    <tr>\n",
       "      <th>1</th>\n",
       "      <td>AL802</td>\n",
       "      <td>Software Design in Artificial Intelligence for...</td>\n",
       "      <td>313</td>\n",
       "      <td>NaN</td>\n",
       "    </tr>\n",
       "    <tr>\n",
       "      <th>2</th>\n",
       "      <td>AL803</td>\n",
       "      <td>Software Design for Mobile Apps and Connected ...</td>\n",
       "      <td>350</td>\n",
       "      <td>NaN</td>\n",
       "    </tr>\n",
       "    <tr>\n",
       "      <th>3</th>\n",
       "      <td>AL805</td>\n",
       "      <td>Computer Engineering for Network Infrastructure</td>\n",
       "      <td>321</td>\n",
       "      <td>NaN</td>\n",
       "    </tr>\n",
       "    <tr>\n",
       "      <th>4</th>\n",
       "      <td>AL810</td>\n",
       "      <td>Quantity Surveying</td>\n",
       "      <td>328</td>\n",
       "      <td>NaN</td>\n",
       "    </tr>\n",
       "  </tbody>\n",
       "</table>\n",
       "</div>"
      ],
      "text/plain": [
       "  Course_Code                                       Course_Title  \\\n",
       "0       AL801     Software Design for Virtual Reality and Gaming   \n",
       "1       AL802  Software Design in Artificial Intelligence for...   \n",
       "2       AL803  Software Design for Mobile Apps and Connected ...   \n",
       "3       AL805    Computer Engineering for Network Infrastructure   \n",
       "4       AL810                                 Quantity Surveying   \n",
       "\n",
       "  PointsR1_2021 PointsR2_2021  \n",
       "0           300           NaN  \n",
       "1           313           NaN  \n",
       "2           350           NaN  \n",
       "3           321           NaN  \n",
       "4           328           NaN  "
      ]
     },
     "execution_count": 13,
     "metadata": {},
     "output_type": "execute_result"
    }
   ],
   "source": [
    "# replace unwanted characters\n",
    "df2021 = df2021.replace('#', '', regex = True)\n",
    "df2021 = df2021.replace('AQA', '', regex = True)\n",
    "df2021 = df2021.replace('\\*', '', regex = True)\n",
    "df2021 = df2021.replace('\\+matric', '', regex = True)\n",
    "df2021 = df2021.replace('\\+mat', '', regex = True)\n",
    "df2021 = df2021.replace('e\\)', '', regex = True)\n",
    "\n",
    "# have a look\n",
    "df2021.head()"
   ]
  },
  {
   "cell_type": "markdown",
   "id": "e593306e-5fdb-4b09-b39d-41425229087c",
   "metadata": {},
   "source": [
    "We'll use `pd.to_numeric()` to change the data type of the points fields to float."
   ]
  },
  {
   "cell_type": "code",
   "execution_count": 14,
   "id": "0b8ec5a9-caea-4ded-b9ce-687a1464cda4",
   "metadata": {},
   "outputs": [
    {
     "name": "stdout",
     "output_type": "stream",
     "text": [
      "<class 'pandas.core.frame.DataFrame'>\n",
      "RangeIndex: 949 entries, 0 to 948\n",
      "Data columns (total 4 columns):\n",
      " #   Column         Non-Null Count  Dtype  \n",
      "---  ------         --------------  -----  \n",
      " 0   Course_Code    949 non-null    object \n",
      " 1   Course_Title   949 non-null    object \n",
      " 2   PointsR1_2021  923 non-null    float64\n",
      " 3   PointsR2_2021  255 non-null    float64\n",
      "dtypes: float64(2), object(2)\n",
      "memory usage: 29.8+ KB\n"
     ]
    }
   ],
   "source": [
    "# changing datatype\n",
    "df2021['PointsR1_2021'] = pd.to_numeric(df2021['PointsR1_2021'])\n",
    "df2021['PointsR2_2021'] = pd.to_numeric(df2021['PointsR2_2021'])\n",
    "\n",
    "# have a look\n",
    "df2021.info()"
   ]
  },
  {
   "cell_type": "markdown",
   "id": "1e58abec-163d-40d8-ad35-b1c7e68a2634",
   "metadata": {},
   "source": [
    "We now use the `.describe()` function to carry out initial analysis of the data."
   ]
  },
  {
   "cell_type": "code",
   "execution_count": 15,
   "id": "87e7b888-cd32-4765-8b95-f8d5946547d2",
   "metadata": {},
   "outputs": [
    {
     "data": {
      "text/html": [
       "<div>\n",
       "<style scoped>\n",
       "    .dataframe tbody tr th:only-of-type {\n",
       "        vertical-align: middle;\n",
       "    }\n",
       "\n",
       "    .dataframe tbody tr th {\n",
       "        vertical-align: top;\n",
       "    }\n",
       "\n",
       "    .dataframe thead th {\n",
       "        text-align: right;\n",
       "    }\n",
       "</style>\n",
       "<table border=\"1\" class=\"dataframe\">\n",
       "  <thead>\n",
       "    <tr style=\"text-align: right;\">\n",
       "      <th></th>\n",
       "      <th>PointsR1_2021</th>\n",
       "      <th>PointsR2_2021</th>\n",
       "    </tr>\n",
       "  </thead>\n",
       "  <tbody>\n",
       "    <tr>\n",
       "      <th>count</th>\n",
       "      <td>923.000000</td>\n",
       "      <td>255.000000</td>\n",
       "    </tr>\n",
       "    <tr>\n",
       "      <th>mean</th>\n",
       "      <td>407.666306</td>\n",
       "      <td>414.749020</td>\n",
       "    </tr>\n",
       "    <tr>\n",
       "      <th>std</th>\n",
       "      <td>128.706224</td>\n",
       "      <td>141.693386</td>\n",
       "    </tr>\n",
       "    <tr>\n",
       "      <th>min</th>\n",
       "      <td>57.000000</td>\n",
       "      <td>60.000000</td>\n",
       "    </tr>\n",
       "    <tr>\n",
       "      <th>25%</th>\n",
       "      <td>303.000000</td>\n",
       "      <td>293.500000</td>\n",
       "    </tr>\n",
       "    <tr>\n",
       "      <th>50%</th>\n",
       "      <td>391.000000</td>\n",
       "      <td>424.000000</td>\n",
       "    </tr>\n",
       "    <tr>\n",
       "      <th>75%</th>\n",
       "      <td>499.000000</td>\n",
       "      <td>521.500000</td>\n",
       "    </tr>\n",
       "    <tr>\n",
       "      <th>max</th>\n",
       "      <td>1028.000000</td>\n",
       "      <td>904.000000</td>\n",
       "    </tr>\n",
       "  </tbody>\n",
       "</table>\n",
       "</div>"
      ],
      "text/plain": [
       "       PointsR1_2021  PointsR2_2021\n",
       "count     923.000000     255.000000\n",
       "mean      407.666306     414.749020\n",
       "std       128.706224     141.693386\n",
       "min        57.000000      60.000000\n",
       "25%       303.000000     293.500000\n",
       "50%       391.000000     424.000000\n",
       "75%       499.000000     521.500000\n",
       "max      1028.000000     904.000000"
      ]
     },
     "execution_count": 15,
     "metadata": {},
     "output_type": "execute_result"
    }
   ],
   "source": [
    "# initial analysis of data\n",
    "df2021.describe()"
   ]
  },
  {
   "cell_type": "markdown",
   "id": "7970d63c-df01-4da0-88a5-d35671292f47",
   "metadata": {},
   "source": [
    "The main issue I can see here is that we have 923 values for Round 1 points but only 255 for round 2. It's going to be quite difficult to carry out any analysis with previous years with that situation. I think we need to create a third column containing the lower of the 2 values, as I guess this will be closer to the final points requirement. We create variables for each of the points columns and then define a function to return the smaller of each. By using the `.combine` method, we create a new column."
   ]
  },
  {
   "cell_type": "code",
   "execution_count": 16,
   "id": "c45ee1a9-dc7b-44cd-be8d-8ad6e8cc84af",
   "metadata": {},
   "outputs": [
    {
     "data": {
      "text/plain": [
       "0      300.0\n",
       "1      313.0\n",
       "2      350.0\n",
       "3      321.0\n",
       "4      328.0\n",
       "       ...  \n",
       "944    270.0\n",
       "945    262.0\n",
       "946    230.0\n",
       "947    266.0\n",
       "948    261.0\n",
       "Length: 949, dtype: float64"
      ]
     },
     "execution_count": 16,
     "metadata": {},
     "output_type": "execute_result"
    }
   ],
   "source": [
    "# creating variables for each column\n",
    "df1 = df2021['PointsR1_2021']\n",
    "df2 = df2021['PointsR2_2021']\n",
    "\n",
    "# function to return smaller of each column\n",
    "take_smaller = lambda s1, s2: s1 if s1 < s2 else s2\n",
    "\n",
    "# create the new column\n",
    "finalPoints2021 = df2.combine(df1, take_smaller)\n",
    "\n",
    "# have a look\n",
    "finalPoints2021"
   ]
  },
  {
   "cell_type": "markdown",
   "id": "90bdc24f-c935-4cfa-a4ad-da6532fabb58",
   "metadata": {},
   "source": [
    "We add the new column to the dataframe and have a look."
   ]
  },
  {
   "cell_type": "code",
   "execution_count": 17,
   "id": "466f79c0-e526-464e-8dd6-f0f241ce2f13",
   "metadata": {},
   "outputs": [
    {
     "data": {
      "text/html": [
       "<div>\n",
       "<style scoped>\n",
       "    .dataframe tbody tr th:only-of-type {\n",
       "        vertical-align: middle;\n",
       "    }\n",
       "\n",
       "    .dataframe tbody tr th {\n",
       "        vertical-align: top;\n",
       "    }\n",
       "\n",
       "    .dataframe thead th {\n",
       "        text-align: right;\n",
       "    }\n",
       "</style>\n",
       "<table border=\"1\" class=\"dataframe\">\n",
       "  <thead>\n",
       "    <tr style=\"text-align: right;\">\n",
       "      <th></th>\n",
       "      <th>Course_Code</th>\n",
       "      <th>Course_Title</th>\n",
       "      <th>PointsR1_2021</th>\n",
       "      <th>PointsR2_2021</th>\n",
       "      <th>finalPoints2021</th>\n",
       "    </tr>\n",
       "  </thead>\n",
       "  <tbody>\n",
       "    <tr>\n",
       "      <th>0</th>\n",
       "      <td>AL801</td>\n",
       "      <td>Software Design for Virtual Reality and Gaming</td>\n",
       "      <td>300.0</td>\n",
       "      <td>NaN</td>\n",
       "      <td>300.0</td>\n",
       "    </tr>\n",
       "    <tr>\n",
       "      <th>1</th>\n",
       "      <td>AL802</td>\n",
       "      <td>Software Design in Artificial Intelligence for...</td>\n",
       "      <td>313.0</td>\n",
       "      <td>NaN</td>\n",
       "      <td>313.0</td>\n",
       "    </tr>\n",
       "    <tr>\n",
       "      <th>2</th>\n",
       "      <td>AL803</td>\n",
       "      <td>Software Design for Mobile Apps and Connected ...</td>\n",
       "      <td>350.0</td>\n",
       "      <td>NaN</td>\n",
       "      <td>350.0</td>\n",
       "    </tr>\n",
       "    <tr>\n",
       "      <th>3</th>\n",
       "      <td>AL805</td>\n",
       "      <td>Computer Engineering for Network Infrastructure</td>\n",
       "      <td>321.0</td>\n",
       "      <td>NaN</td>\n",
       "      <td>321.0</td>\n",
       "    </tr>\n",
       "    <tr>\n",
       "      <th>4</th>\n",
       "      <td>AL810</td>\n",
       "      <td>Quantity Surveying</td>\n",
       "      <td>328.0</td>\n",
       "      <td>NaN</td>\n",
       "      <td>328.0</td>\n",
       "    </tr>\n",
       "  </tbody>\n",
       "</table>\n",
       "</div>"
      ],
      "text/plain": [
       "  Course_Code                                       Course_Title  \\\n",
       "0       AL801     Software Design for Virtual Reality and Gaming   \n",
       "1       AL802  Software Design in Artificial Intelligence for...   \n",
       "2       AL803  Software Design for Mobile Apps and Connected ...   \n",
       "3       AL805    Computer Engineering for Network Infrastructure   \n",
       "4       AL810                                 Quantity Surveying   \n",
       "\n",
       "   PointsR1_2021  PointsR2_2021  finalPoints2021  \n",
       "0          300.0            NaN            300.0  \n",
       "1          313.0            NaN            313.0  \n",
       "2          350.0            NaN            350.0  \n",
       "3          321.0            NaN            321.0  \n",
       "4          328.0            NaN            328.0  "
      ]
     },
     "execution_count": 17,
     "metadata": {},
     "output_type": "execute_result"
    }
   ],
   "source": [
    "# add new column to dataframe\n",
    "df2021['finalPoints2021'] = finalPoints2021\n",
    "\n",
    "# have a look\n",
    "df2021.head()"
   ]
  },
  {
   "cell_type": "markdown",
   "id": "5f6c7e3b-3b41-4e1e-b8ef-7e4dd266b205",
   "metadata": {
    "tags": []
   },
   "source": [
    "<br>\n",
    "\n",
    "--- \n",
    "\n",
    "## 2020 Points\n",
    "\n",
    "---"
   ]
  },
  {
   "cell_type": "markdown",
   "id": "0173d996-a3d3-47f8-b800-9ccd85609589",
   "metadata": {
    "tags": []
   },
   "source": [
    "The 2020 data is already in an excel spreadsheet so a different approach is needed. We first save the original data and name it again using the timestamp created above."
   ]
  },
  {
   "cell_type": "code",
   "execution_count": 18,
   "id": "10942305-f895-472c-b869-566b02eefd62",
   "metadata": {},
   "outputs": [
    {
     "data": {
      "text/plain": [
       "('data/CAO2020_20220102_173138.html',\n",
       " <http.client.HTTPMessage at 0x7fe2847b4700>)"
      ]
     },
     "execution_count": 18,
     "metadata": {},
     "output_type": "execute_result"
    }
   ],
   "source": [
    "# create a new path\n",
    "path2020 = 'data/CAO2020_' + nowstr + '.html'\n",
    "\n",
    "# Read and store content of excel file from a URL \n",
    "urlrq.urlretrieve(url2020, path2020)"
   ]
  },
  {
   "cell_type": "markdown",
   "id": "e3c89f2c-b4c0-41f4-94c3-45849379ffa5",
   "metadata": {},
   "source": [
    "We read it in again using `pandas` skipping the first 10 rows which on inspection contained stuff we didn't need."
   ]
  },
  {
   "cell_type": "code",
   "execution_count": 19,
   "id": "8b6c9b1d-612f-4170-bf33-568ef5df3c6c",
   "metadata": {
    "tags": []
   },
   "outputs": [
    {
     "data": {
      "text/html": [
       "<div>\n",
       "<style scoped>\n",
       "    .dataframe tbody tr th:only-of-type {\n",
       "        vertical-align: middle;\n",
       "    }\n",
       "\n",
       "    .dataframe tbody tr th {\n",
       "        vertical-align: top;\n",
       "    }\n",
       "\n",
       "    .dataframe thead th {\n",
       "        text-align: right;\n",
       "    }\n",
       "</style>\n",
       "<table border=\"1\" class=\"dataframe\">\n",
       "  <thead>\n",
       "    <tr style=\"text-align: right;\">\n",
       "      <th></th>\n",
       "      <th>CATEGORY (i.e.ISCED description)</th>\n",
       "      <th>COURSE TITLE</th>\n",
       "      <th>COURSE CODE2</th>\n",
       "      <th>R1 POINTS</th>\n",
       "      <th>R1 Random *</th>\n",
       "      <th>R2 POINTS</th>\n",
       "      <th>R2 Random*</th>\n",
       "      <th>EOS</th>\n",
       "      <th>EOS Random *</th>\n",
       "      <th>EOS Mid-point</th>\n",
       "      <th>...</th>\n",
       "      <th>avp</th>\n",
       "      <th>v</th>\n",
       "      <th>Column1</th>\n",
       "      <th>Column2</th>\n",
       "      <th>Column3</th>\n",
       "      <th>Column4</th>\n",
       "      <th>Column5</th>\n",
       "      <th>Column6</th>\n",
       "      <th>Column7</th>\n",
       "      <th>Column8</th>\n",
       "    </tr>\n",
       "  </thead>\n",
       "  <tbody>\n",
       "    <tr>\n",
       "      <th>0</th>\n",
       "      <td>Business and administration</td>\n",
       "      <td>International Business</td>\n",
       "      <td>AC120</td>\n",
       "      <td>209</td>\n",
       "      <td>NaN</td>\n",
       "      <td>NaN</td>\n",
       "      <td>NaN</td>\n",
       "      <td>209</td>\n",
       "      <td>NaN</td>\n",
       "      <td>280</td>\n",
       "      <td>...</td>\n",
       "      <td>NaN</td>\n",
       "      <td>NaN</td>\n",
       "      <td>NaN</td>\n",
       "      <td>NaN</td>\n",
       "      <td>NaN</td>\n",
       "      <td>NaN</td>\n",
       "      <td>NaN</td>\n",
       "      <td>NaN</td>\n",
       "      <td>NaN</td>\n",
       "      <td>NaN</td>\n",
       "    </tr>\n",
       "    <tr>\n",
       "      <th>1</th>\n",
       "      <td>Humanities (except languages)</td>\n",
       "      <td>Liberal Arts</td>\n",
       "      <td>AC137</td>\n",
       "      <td>252</td>\n",
       "      <td>NaN</td>\n",
       "      <td>NaN</td>\n",
       "      <td>NaN</td>\n",
       "      <td>252</td>\n",
       "      <td>NaN</td>\n",
       "      <td>270</td>\n",
       "      <td>...</td>\n",
       "      <td>NaN</td>\n",
       "      <td>NaN</td>\n",
       "      <td>NaN</td>\n",
       "      <td>NaN</td>\n",
       "      <td>NaN</td>\n",
       "      <td>NaN</td>\n",
       "      <td>NaN</td>\n",
       "      <td>NaN</td>\n",
       "      <td>NaN</td>\n",
       "      <td>NaN</td>\n",
       "    </tr>\n",
       "    <tr>\n",
       "      <th>2</th>\n",
       "      <td>Arts</td>\n",
       "      <td>First Year Art &amp; Design (Common Entry,portfolio)</td>\n",
       "      <td>AD101</td>\n",
       "      <td>#+matric</td>\n",
       "      <td>NaN</td>\n",
       "      <td>NaN</td>\n",
       "      <td>NaN</td>\n",
       "      <td>#+matric</td>\n",
       "      <td>NaN</td>\n",
       "      <td>#+matric</td>\n",
       "      <td>...</td>\n",
       "      <td>NaN</td>\n",
       "      <td>NaN</td>\n",
       "      <td>NaN</td>\n",
       "      <td>NaN</td>\n",
       "      <td>NaN</td>\n",
       "      <td>NaN</td>\n",
       "      <td>NaN</td>\n",
       "      <td>NaN</td>\n",
       "      <td>NaN</td>\n",
       "      <td>NaN</td>\n",
       "    </tr>\n",
       "    <tr>\n",
       "      <th>3</th>\n",
       "      <td>Arts</td>\n",
       "      <td>Graphic Design and Moving Image Design (portfo...</td>\n",
       "      <td>AD102</td>\n",
       "      <td>#+matric</td>\n",
       "      <td>NaN</td>\n",
       "      <td>NaN</td>\n",
       "      <td>NaN</td>\n",
       "      <td>#+matric</td>\n",
       "      <td>NaN</td>\n",
       "      <td>#+matric</td>\n",
       "      <td>...</td>\n",
       "      <td>NaN</td>\n",
       "      <td>NaN</td>\n",
       "      <td>NaN</td>\n",
       "      <td>NaN</td>\n",
       "      <td>NaN</td>\n",
       "      <td>NaN</td>\n",
       "      <td>NaN</td>\n",
       "      <td>NaN</td>\n",
       "      <td>NaN</td>\n",
       "      <td>NaN</td>\n",
       "    </tr>\n",
       "    <tr>\n",
       "      <th>4</th>\n",
       "      <td>Arts</td>\n",
       "      <td>Textile &amp; Surface Design and Jewellery &amp; Objec...</td>\n",
       "      <td>AD103</td>\n",
       "      <td>#+matric</td>\n",
       "      <td>NaN</td>\n",
       "      <td>NaN</td>\n",
       "      <td>NaN</td>\n",
       "      <td>#+matric</td>\n",
       "      <td>NaN</td>\n",
       "      <td>#+matric</td>\n",
       "      <td>...</td>\n",
       "      <td>NaN</td>\n",
       "      <td>NaN</td>\n",
       "      <td>NaN</td>\n",
       "      <td>NaN</td>\n",
       "      <td>NaN</td>\n",
       "      <td>NaN</td>\n",
       "      <td>NaN</td>\n",
       "      <td>NaN</td>\n",
       "      <td>NaN</td>\n",
       "      <td>NaN</td>\n",
       "    </tr>\n",
       "  </tbody>\n",
       "</table>\n",
       "<p>5 rows × 23 columns</p>\n",
       "</div>"
      ],
      "text/plain": [
       "  CATEGORY (i.e.ISCED description)  \\\n",
       "0      Business and administration   \n",
       "1    Humanities (except languages)   \n",
       "2                             Arts   \n",
       "3                             Arts   \n",
       "4                             Arts   \n",
       "\n",
       "                                        COURSE TITLE COURSE CODE2 R1 POINTS  \\\n",
       "0                             International Business        AC120       209   \n",
       "1                                       Liberal Arts        AC137       252   \n",
       "2   First Year Art & Design (Common Entry,portfolio)        AD101  #+matric   \n",
       "3  Graphic Design and Moving Image Design (portfo...        AD102  #+matric   \n",
       "4  Textile & Surface Design and Jewellery & Objec...        AD103  #+matric   \n",
       "\n",
       "  R1 Random * R2 POINTS R2 Random*       EOS EOS Random * EOS Mid-point  ...  \\\n",
       "0         NaN       NaN        NaN       209          NaN           280  ...   \n",
       "1         NaN       NaN        NaN       252          NaN           270  ...   \n",
       "2         NaN       NaN        NaN  #+matric          NaN      #+matric  ...   \n",
       "3         NaN       NaN        NaN  #+matric          NaN      #+matric  ...   \n",
       "4         NaN       NaN        NaN  #+matric          NaN      #+matric  ...   \n",
       "\n",
       "   avp    v Column1 Column2 Column3  Column4  Column5  Column6  Column7  \\\n",
       "0  NaN  NaN     NaN     NaN     NaN      NaN      NaN      NaN      NaN   \n",
       "1  NaN  NaN     NaN     NaN     NaN      NaN      NaN      NaN      NaN   \n",
       "2  NaN  NaN     NaN     NaN     NaN      NaN      NaN      NaN      NaN   \n",
       "3  NaN  NaN     NaN     NaN     NaN      NaN      NaN      NaN      NaN   \n",
       "4  NaN  NaN     NaN     NaN     NaN      NaN      NaN      NaN      NaN   \n",
       "\n",
       "   Column8  \n",
       "0      NaN  \n",
       "1      NaN  \n",
       "2      NaN  \n",
       "3      NaN  \n",
       "4      NaN  \n",
       "\n",
       "[5 rows x 23 columns]"
      ]
     },
     "execution_count": 19,
     "metadata": {},
     "output_type": "execute_result"
    }
   ],
   "source": [
    "# skip the first 10 rows\n",
    "df2020 = pd.read_excel (url2020, skiprows=10)\n",
    "\n",
    "# have a look\n",
    "df2020.head()"
   ]
  },
  {
   "cell_type": "markdown",
   "id": "16597863-0a42-454a-b2b4-406c73393bd9",
   "metadata": {},
   "source": [
    "We can see that we have a lot more data than the 2021 version plus different headers. So straight away I'd like to rename the matching headers in anticipation of comparison further down the line."
   ]
  },
  {
   "cell_type": "code",
   "execution_count": 20,
   "id": "47b4c7a5-40f4-4361-a699-3d0791305622",
   "metadata": {},
   "outputs": [
    {
     "data": {
      "text/html": [
       "<div>\n",
       "<style scoped>\n",
       "    .dataframe tbody tr th:only-of-type {\n",
       "        vertical-align: middle;\n",
       "    }\n",
       "\n",
       "    .dataframe tbody tr th {\n",
       "        vertical-align: top;\n",
       "    }\n",
       "\n",
       "    .dataframe thead th {\n",
       "        text-align: right;\n",
       "    }\n",
       "</style>\n",
       "<table border=\"1\" class=\"dataframe\">\n",
       "  <thead>\n",
       "    <tr style=\"text-align: right;\">\n",
       "      <th></th>\n",
       "      <th>CATEGORY (i.e.ISCED description)</th>\n",
       "      <th>Course_Title</th>\n",
       "      <th>Course_Code</th>\n",
       "      <th>PointsR1_2020</th>\n",
       "      <th>R1 Random *</th>\n",
       "      <th>PointsR2_2020</th>\n",
       "      <th>R2 Random*</th>\n",
       "      <th>EOS_2020</th>\n",
       "      <th>EOS Random *</th>\n",
       "      <th>EOS Mid-point</th>\n",
       "      <th>...</th>\n",
       "      <th>avp</th>\n",
       "      <th>v</th>\n",
       "      <th>Column1</th>\n",
       "      <th>Column2</th>\n",
       "      <th>Column3</th>\n",
       "      <th>Column4</th>\n",
       "      <th>Column5</th>\n",
       "      <th>Column6</th>\n",
       "      <th>Column7</th>\n",
       "      <th>Column8</th>\n",
       "    </tr>\n",
       "  </thead>\n",
       "  <tbody>\n",
       "    <tr>\n",
       "      <th>0</th>\n",
       "      <td>Business and administration</td>\n",
       "      <td>International Business</td>\n",
       "      <td>AC120</td>\n",
       "      <td>209</td>\n",
       "      <td>NaN</td>\n",
       "      <td>NaN</td>\n",
       "      <td>NaN</td>\n",
       "      <td>209</td>\n",
       "      <td>NaN</td>\n",
       "      <td>280</td>\n",
       "      <td>...</td>\n",
       "      <td>NaN</td>\n",
       "      <td>NaN</td>\n",
       "      <td>NaN</td>\n",
       "      <td>NaN</td>\n",
       "      <td>NaN</td>\n",
       "      <td>NaN</td>\n",
       "      <td>NaN</td>\n",
       "      <td>NaN</td>\n",
       "      <td>NaN</td>\n",
       "      <td>NaN</td>\n",
       "    </tr>\n",
       "    <tr>\n",
       "      <th>1</th>\n",
       "      <td>Humanities (except languages)</td>\n",
       "      <td>Liberal Arts</td>\n",
       "      <td>AC137</td>\n",
       "      <td>252</td>\n",
       "      <td>NaN</td>\n",
       "      <td>NaN</td>\n",
       "      <td>NaN</td>\n",
       "      <td>252</td>\n",
       "      <td>NaN</td>\n",
       "      <td>270</td>\n",
       "      <td>...</td>\n",
       "      <td>NaN</td>\n",
       "      <td>NaN</td>\n",
       "      <td>NaN</td>\n",
       "      <td>NaN</td>\n",
       "      <td>NaN</td>\n",
       "      <td>NaN</td>\n",
       "      <td>NaN</td>\n",
       "      <td>NaN</td>\n",
       "      <td>NaN</td>\n",
       "      <td>NaN</td>\n",
       "    </tr>\n",
       "    <tr>\n",
       "      <th>2</th>\n",
       "      <td>Arts</td>\n",
       "      <td>First Year Art &amp; Design (Common Entry,portfolio)</td>\n",
       "      <td>AD101</td>\n",
       "      <td>#+matric</td>\n",
       "      <td>NaN</td>\n",
       "      <td>NaN</td>\n",
       "      <td>NaN</td>\n",
       "      <td>#+matric</td>\n",
       "      <td>NaN</td>\n",
       "      <td>#+matric</td>\n",
       "      <td>...</td>\n",
       "      <td>NaN</td>\n",
       "      <td>NaN</td>\n",
       "      <td>NaN</td>\n",
       "      <td>NaN</td>\n",
       "      <td>NaN</td>\n",
       "      <td>NaN</td>\n",
       "      <td>NaN</td>\n",
       "      <td>NaN</td>\n",
       "      <td>NaN</td>\n",
       "      <td>NaN</td>\n",
       "    </tr>\n",
       "    <tr>\n",
       "      <th>3</th>\n",
       "      <td>Arts</td>\n",
       "      <td>Graphic Design and Moving Image Design (portfo...</td>\n",
       "      <td>AD102</td>\n",
       "      <td>#+matric</td>\n",
       "      <td>NaN</td>\n",
       "      <td>NaN</td>\n",
       "      <td>NaN</td>\n",
       "      <td>#+matric</td>\n",
       "      <td>NaN</td>\n",
       "      <td>#+matric</td>\n",
       "      <td>...</td>\n",
       "      <td>NaN</td>\n",
       "      <td>NaN</td>\n",
       "      <td>NaN</td>\n",
       "      <td>NaN</td>\n",
       "      <td>NaN</td>\n",
       "      <td>NaN</td>\n",
       "      <td>NaN</td>\n",
       "      <td>NaN</td>\n",
       "      <td>NaN</td>\n",
       "      <td>NaN</td>\n",
       "    </tr>\n",
       "    <tr>\n",
       "      <th>4</th>\n",
       "      <td>Arts</td>\n",
       "      <td>Textile &amp; Surface Design and Jewellery &amp; Objec...</td>\n",
       "      <td>AD103</td>\n",
       "      <td>#+matric</td>\n",
       "      <td>NaN</td>\n",
       "      <td>NaN</td>\n",
       "      <td>NaN</td>\n",
       "      <td>#+matric</td>\n",
       "      <td>NaN</td>\n",
       "      <td>#+matric</td>\n",
       "      <td>...</td>\n",
       "      <td>NaN</td>\n",
       "      <td>NaN</td>\n",
       "      <td>NaN</td>\n",
       "      <td>NaN</td>\n",
       "      <td>NaN</td>\n",
       "      <td>NaN</td>\n",
       "      <td>NaN</td>\n",
       "      <td>NaN</td>\n",
       "      <td>NaN</td>\n",
       "      <td>NaN</td>\n",
       "    </tr>\n",
       "  </tbody>\n",
       "</table>\n",
       "<p>5 rows × 23 columns</p>\n",
       "</div>"
      ],
      "text/plain": [
       "  CATEGORY (i.e.ISCED description)  \\\n",
       "0      Business and administration   \n",
       "1    Humanities (except languages)   \n",
       "2                             Arts   \n",
       "3                             Arts   \n",
       "4                             Arts   \n",
       "\n",
       "                                        Course_Title Course_Code  \\\n",
       "0                             International Business       AC120   \n",
       "1                                       Liberal Arts       AC137   \n",
       "2   First Year Art & Design (Common Entry,portfolio)       AD101   \n",
       "3  Graphic Design and Moving Image Design (portfo...       AD102   \n",
       "4  Textile & Surface Design and Jewellery & Objec...       AD103   \n",
       "\n",
       "  PointsR1_2020 R1 Random * PointsR2_2020 R2 Random*  EOS_2020 EOS Random *  \\\n",
       "0           209         NaN           NaN        NaN       209          NaN   \n",
       "1           252         NaN           NaN        NaN       252          NaN   \n",
       "2      #+matric         NaN           NaN        NaN  #+matric          NaN   \n",
       "3      #+matric         NaN           NaN        NaN  #+matric          NaN   \n",
       "4      #+matric         NaN           NaN        NaN  #+matric          NaN   \n",
       "\n",
       "  EOS Mid-point  ...  avp    v Column1 Column2 Column3  Column4  Column5  \\\n",
       "0           280  ...  NaN  NaN     NaN     NaN     NaN      NaN      NaN   \n",
       "1           270  ...  NaN  NaN     NaN     NaN     NaN      NaN      NaN   \n",
       "2      #+matric  ...  NaN  NaN     NaN     NaN     NaN      NaN      NaN   \n",
       "3      #+matric  ...  NaN  NaN     NaN     NaN     NaN      NaN      NaN   \n",
       "4      #+matric  ...  NaN  NaN     NaN     NaN     NaN      NaN      NaN   \n",
       "\n",
       "   Column6  Column7  Column8  \n",
       "0      NaN      NaN      NaN  \n",
       "1      NaN      NaN      NaN  \n",
       "2      NaN      NaN      NaN  \n",
       "3      NaN      NaN      NaN  \n",
       "4      NaN      NaN      NaN  \n",
       "\n",
       "[5 rows x 23 columns]"
      ]
     },
     "execution_count": 20,
     "metadata": {},
     "output_type": "execute_result"
    }
   ],
   "source": [
    "# change the necessary headers - Course_Code,Course_Title,PointsR1,PointsR2\n",
    "df2020 = df2020.rename(columns={'COURSE TITLE': 'Course_Title', 'COURSE CODE2': 'Course_Code', \n",
    "                                'R1 POINTS': 'PointsR1_2020', 'R2 POINTS': 'PointsR2_2020', 'EOS': 'EOS_2020'})\n",
    "\n",
    "# have a look\n",
    "df2020.head()"
   ]
  },
  {
   "cell_type": "markdown",
   "id": "cf87806a-0768-4704-9508-ccb466dd56de",
   "metadata": {},
   "source": []
  },
  {
   "cell_type": "markdown",
   "id": "655118a2-1752-4258-9121-d64b72e67b57",
   "metadata": {},
   "source": [
    "We notice that the dataframe contains information for level 6 and 7 courses which we don't want. I'm first of all going to get rid of all of the extraneous columnns and then look at filtering out all of the non-level 8 courses. We just want the Course_Code, Course_Title, PointsR1_2020, PointsR2_2020, LEVEL. We will also take EOS, as this is the points total for the final accepted candidate. Something roughly comparable to our newly created `finalPoints2021` column in the 2021 file.  \n",
    "\n",
    "**EOS** is the \n",
    ">*\".. FINAL CUT-OFF points, in other words, the points score achieved by the last applicant being offered a place on that course in 2008. The second column gives the MID figure, that is, the points score of the applicant midway between the highest and the lowest applicant being offered a place.\"*\n",
    "https://www.independent.ie/life/family/learning/understanding-your-cao-course-guide-26505318.html"
   ]
  },
  {
   "cell_type": "code",
   "execution_count": 21,
   "id": "00177e83-6474-4634-b980-9828a36e6637",
   "metadata": {},
   "outputs": [
    {
     "data": {
      "text/html": [
       "<div>\n",
       "<style scoped>\n",
       "    .dataframe tbody tr th:only-of-type {\n",
       "        vertical-align: middle;\n",
       "    }\n",
       "\n",
       "    .dataframe tbody tr th {\n",
       "        vertical-align: top;\n",
       "    }\n",
       "\n",
       "    .dataframe thead th {\n",
       "        text-align: right;\n",
       "    }\n",
       "</style>\n",
       "<table border=\"1\" class=\"dataframe\">\n",
       "  <thead>\n",
       "    <tr style=\"text-align: right;\">\n",
       "      <th></th>\n",
       "      <th>Course_Code</th>\n",
       "      <th>Course_Title</th>\n",
       "      <th>PointsR1_2020</th>\n",
       "      <th>PointsR2_2020</th>\n",
       "      <th>EOS_2020</th>\n",
       "      <th>LEVEL</th>\n",
       "    </tr>\n",
       "  </thead>\n",
       "  <tbody>\n",
       "    <tr>\n",
       "      <th>0</th>\n",
       "      <td>AC120</td>\n",
       "      <td>International Business</td>\n",
       "      <td>209</td>\n",
       "      <td>NaN</td>\n",
       "      <td>209</td>\n",
       "      <td>8</td>\n",
       "    </tr>\n",
       "    <tr>\n",
       "      <th>1</th>\n",
       "      <td>AC137</td>\n",
       "      <td>Liberal Arts</td>\n",
       "      <td>252</td>\n",
       "      <td>NaN</td>\n",
       "      <td>252</td>\n",
       "      <td>8</td>\n",
       "    </tr>\n",
       "    <tr>\n",
       "      <th>2</th>\n",
       "      <td>AD101</td>\n",
       "      <td>First Year Art &amp; Design (Common Entry,portfolio)</td>\n",
       "      <td>#+matric</td>\n",
       "      <td>NaN</td>\n",
       "      <td>#+matric</td>\n",
       "      <td>8</td>\n",
       "    </tr>\n",
       "    <tr>\n",
       "      <th>3</th>\n",
       "      <td>AD102</td>\n",
       "      <td>Graphic Design and Moving Image Design (portfo...</td>\n",
       "      <td>#+matric</td>\n",
       "      <td>NaN</td>\n",
       "      <td>#+matric</td>\n",
       "      <td>8</td>\n",
       "    </tr>\n",
       "    <tr>\n",
       "      <th>4</th>\n",
       "      <td>AD103</td>\n",
       "      <td>Textile &amp; Surface Design and Jewellery &amp; Objec...</td>\n",
       "      <td>#+matric</td>\n",
       "      <td>NaN</td>\n",
       "      <td>#+matric</td>\n",
       "      <td>8</td>\n",
       "    </tr>\n",
       "  </tbody>\n",
       "</table>\n",
       "</div>"
      ],
      "text/plain": [
       "  Course_Code                                       Course_Title  \\\n",
       "0       AC120                             International Business   \n",
       "1       AC137                                       Liberal Arts   \n",
       "2       AD101   First Year Art & Design (Common Entry,portfolio)   \n",
       "3       AD102  Graphic Design and Moving Image Design (portfo...   \n",
       "4       AD103  Textile & Surface Design and Jewellery & Objec...   \n",
       "\n",
       "  PointsR1_2020 PointsR2_2020  EOS_2020  LEVEL  \n",
       "0           209           NaN       209      8  \n",
       "1           252           NaN       252      8  \n",
       "2      #+matric           NaN  #+matric      8  \n",
       "3      #+matric           NaN  #+matric      8  \n",
       "4      #+matric           NaN  #+matric      8  "
      ]
     },
     "execution_count": 21,
     "metadata": {},
     "output_type": "execute_result"
    }
   ],
   "source": [
    "# extract the relevent columns and reorder\n",
    "df2020 = df2020[['Course_Code','Course_Title','PointsR1_2020','PointsR2_2020', 'EOS_2020', 'LEVEL']]\n",
    "\n",
    "# have a look\n",
    "df2020.head()"
   ]
  },
  {
   "cell_type": "code",
   "execution_count": 22,
   "id": "ad0c0033-9705-49df-9e1b-974c6b3512fa",
   "metadata": {},
   "outputs": [],
   "source": [
    "# filter rows where level equals 8\n",
    "df2020 = df2020.loc[df2020['LEVEL'] == 8]"
   ]
  },
  {
   "cell_type": "markdown",
   "id": "6b5ef227-f079-4a79-8e4c-ee5578a49928",
   "metadata": {},
   "source": [
    "We now drop the LEVEL column."
   ]
  },
  {
   "cell_type": "code",
   "execution_count": 23,
   "id": "55d7c5d9-579f-415e-aba2-8cdcd727ab31",
   "metadata": {},
   "outputs": [],
   "source": [
    "df2020.drop('LEVEL', axis=1, inplace=True)"
   ]
  },
  {
   "cell_type": "markdown",
   "id": "39378d20-7d9f-4cc9-aa17-dfb8d81bdfc4",
   "metadata": {},
   "source": [
    "Now to address the non-numeric values in the points column."
   ]
  },
  {
   "cell_type": "code",
   "execution_count": 24,
   "id": "d9e80100-3516-4c42-b078-f523b1974e91",
   "metadata": {},
   "outputs": [
    {
     "data": {
      "text/html": [
       "<div>\n",
       "<style scoped>\n",
       "    .dataframe tbody tr th:only-of-type {\n",
       "        vertical-align: middle;\n",
       "    }\n",
       "\n",
       "    .dataframe tbody tr th {\n",
       "        vertical-align: top;\n",
       "    }\n",
       "\n",
       "    .dataframe thead th {\n",
       "        text-align: right;\n",
       "    }\n",
       "</style>\n",
       "<table border=\"1\" class=\"dataframe\">\n",
       "  <thead>\n",
       "    <tr style=\"text-align: right;\">\n",
       "      <th></th>\n",
       "      <th>Course_Code</th>\n",
       "      <th>Course_Title</th>\n",
       "      <th>PointsR1_2020</th>\n",
       "      <th>PointsR2_2020</th>\n",
       "      <th>EOS_2020</th>\n",
       "    </tr>\n",
       "  </thead>\n",
       "  <tbody>\n",
       "    <tr>\n",
       "      <th>0</th>\n",
       "      <td>AC120</td>\n",
       "      <td>International Business</td>\n",
       "      <td>209</td>\n",
       "      <td>NaN</td>\n",
       "      <td>209</td>\n",
       "    </tr>\n",
       "    <tr>\n",
       "      <th>1</th>\n",
       "      <td>AC137</td>\n",
       "      <td>Liberal Arts</td>\n",
       "      <td>252</td>\n",
       "      <td>NaN</td>\n",
       "      <td>252</td>\n",
       "    </tr>\n",
       "    <tr>\n",
       "      <th>2</th>\n",
       "      <td>AD101</td>\n",
       "      <td>First Year Art &amp; Design (Common Entry,portfolio)</td>\n",
       "      <td></td>\n",
       "      <td>NaN</td>\n",
       "      <td></td>\n",
       "    </tr>\n",
       "    <tr>\n",
       "      <th>3</th>\n",
       "      <td>AD102</td>\n",
       "      <td>Graphic Design and Moving Image Design (portfo...</td>\n",
       "      <td></td>\n",
       "      <td>NaN</td>\n",
       "      <td></td>\n",
       "    </tr>\n",
       "    <tr>\n",
       "      <th>4</th>\n",
       "      <td>AD103</td>\n",
       "      <td>Textile &amp; Surface Design and Jewellery &amp; Objec...</td>\n",
       "      <td></td>\n",
       "      <td>NaN</td>\n",
       "      <td></td>\n",
       "    </tr>\n",
       "  </tbody>\n",
       "</table>\n",
       "</div>"
      ],
      "text/plain": [
       "  Course_Code                                       Course_Title  \\\n",
       "0       AC120                             International Business   \n",
       "1       AC137                                       Liberal Arts   \n",
       "2       AD101   First Year Art & Design (Common Entry,portfolio)   \n",
       "3       AD102  Graphic Design and Moving Image Design (portfo...   \n",
       "4       AD103  Textile & Surface Design and Jewellery & Objec...   \n",
       "\n",
       "  PointsR1_2020 PointsR2_2020 EOS_2020  \n",
       "0           209           NaN      209  \n",
       "1           252           NaN      252  \n",
       "2                         NaN           \n",
       "3                         NaN           \n",
       "4                         NaN           "
      ]
     },
     "execution_count": 24,
     "metadata": {},
     "output_type": "execute_result"
    }
   ],
   "source": [
    "# replace non-numeric characters in points fields\n",
    "df2020 = df2020.replace('#', '', regex = True)\n",
    "df2020 = df2020.replace('AQA', '', regex = True)\n",
    "df2020 = df2020.replace('\\*', '', regex = True)\n",
    "df2020 = df2020.replace('\\+matric', '', regex = True)\n",
    "df2020 = df2020.replace('\\+mat', '', regex = True)\n",
    "df2020 = df2020.replace('e\\)', '', regex = True)\n",
    "df2020.head()"
   ]
  },
  {
   "cell_type": "markdown",
   "id": "fcc8864a-ff40-43e1-9e09-71dbe77d3396",
   "metadata": {},
   "source": [
    "We'll use `.info()` again to take a look at the data."
   ]
  },
  {
   "cell_type": "code",
   "execution_count": 25,
   "id": "513e1fde-a04d-45e4-b5c2-0adbc282eedb",
   "metadata": {},
   "outputs": [
    {
     "name": "stdout",
     "output_type": "stream",
     "text": [
      "<class 'pandas.core.frame.DataFrame'>\n",
      "Int64Index: 1027 entries, 0 to 1463\n",
      "Data columns (total 5 columns):\n",
      " #   Column         Non-Null Count  Dtype \n",
      "---  ------         --------------  ----- \n",
      " 0   Course_Code    1027 non-null   object\n",
      " 1   Course_Title   1027 non-null   object\n",
      " 2   PointsR1_2020  1008 non-null   object\n",
      " 3   PointsR2_2020  212 non-null    object\n",
      " 4   EOS_2020       1014 non-null   object\n",
      "dtypes: object(5)\n",
      "memory usage: 48.1+ KB\n"
     ]
    }
   ],
   "source": [
    "# overview of data\n",
    "df2020.info()"
   ]
  },
  {
   "cell_type": "markdown",
   "id": "ac747b26-1a4f-4ac8-9ca4-6e97a80e8c7a",
   "metadata": {},
   "source": [
    "Again we see we need to change the points values to numeric datatypes."
   ]
  },
  {
   "cell_type": "code",
   "execution_count": 26,
   "id": "70fb12d8-4ab8-428d-a474-fd6b9813083b",
   "metadata": {},
   "outputs": [],
   "source": [
    "# change points from object to float\n",
    "df2020['PointsR1_2020'] = pd.to_numeric(df2020['PointsR1_2020'])\n",
    "df2020['PointsR2_2020'] = pd.to_numeric(df2020['PointsR2_2020'])\n",
    "df2020['EOS_2020'] = pd.to_numeric(df2020['EOS_2020'])"
   ]
  },
  {
   "cell_type": "markdown",
   "id": "b9a66163-0c97-4845-bf9d-e3c0df1efd3c",
   "metadata": {},
   "source": [
    "We now try some initial analysis."
   ]
  },
  {
   "cell_type": "code",
   "execution_count": 27,
   "id": "03763db4-62d9-462a-8822-d565345b5f6a",
   "metadata": {},
   "outputs": [
    {
     "data": {
      "text/html": [
       "<div>\n",
       "<style scoped>\n",
       "    .dataframe tbody tr th:only-of-type {\n",
       "        vertical-align: middle;\n",
       "    }\n",
       "\n",
       "    .dataframe tbody tr th {\n",
       "        vertical-align: top;\n",
       "    }\n",
       "\n",
       "    .dataframe thead th {\n",
       "        text-align: right;\n",
       "    }\n",
       "</style>\n",
       "<table border=\"1\" class=\"dataframe\">\n",
       "  <thead>\n",
       "    <tr style=\"text-align: right;\">\n",
       "      <th></th>\n",
       "      <th>PointsR1_2020</th>\n",
       "      <th>PointsR2_2020</th>\n",
       "      <th>EOS_2020</th>\n",
       "    </tr>\n",
       "  </thead>\n",
       "  <tbody>\n",
       "    <tr>\n",
       "      <th>count</th>\n",
       "      <td>989.000000</td>\n",
       "      <td>209.000000</td>\n",
       "      <td>993.000000</td>\n",
       "    </tr>\n",
       "    <tr>\n",
       "      <th>mean</th>\n",
       "      <td>394.300303</td>\n",
       "      <td>394.521531</td>\n",
       "      <td>391.799597</td>\n",
       "    </tr>\n",
       "    <tr>\n",
       "      <th>std</th>\n",
       "      <td>126.135161</td>\n",
       "      <td>127.579578</td>\n",
       "      <td>128.446837</td>\n",
       "    </tr>\n",
       "    <tr>\n",
       "      <th>min</th>\n",
       "      <td>55.000000</td>\n",
       "      <td>184.000000</td>\n",
       "      <td>55.000000</td>\n",
       "    </tr>\n",
       "    <tr>\n",
       "      <th>25%</th>\n",
       "      <td>301.000000</td>\n",
       "      <td>282.000000</td>\n",
       "      <td>300.000000</td>\n",
       "    </tr>\n",
       "    <tr>\n",
       "      <th>50%</th>\n",
       "      <td>370.000000</td>\n",
       "      <td>402.000000</td>\n",
       "      <td>368.000000</td>\n",
       "    </tr>\n",
       "    <tr>\n",
       "      <th>75%</th>\n",
       "      <td>476.000000</td>\n",
       "      <td>498.000000</td>\n",
       "      <td>474.000000</td>\n",
       "    </tr>\n",
       "    <tr>\n",
       "      <th>max</th>\n",
       "      <td>1088.000000</td>\n",
       "      <td>768.000000</td>\n",
       "      <td>1088.000000</td>\n",
       "    </tr>\n",
       "  </tbody>\n",
       "</table>\n",
       "</div>"
      ],
      "text/plain": [
       "       PointsR1_2020  PointsR2_2020     EOS_2020\n",
       "count     989.000000     209.000000   993.000000\n",
       "mean      394.300303     394.521531   391.799597\n",
       "std       126.135161     127.579578   128.446837\n",
       "min        55.000000     184.000000    55.000000\n",
       "25%       301.000000     282.000000   300.000000\n",
       "50%       370.000000     402.000000   368.000000\n",
       "75%       476.000000     498.000000   474.000000\n",
       "max      1088.000000     768.000000  1088.000000"
      ]
     },
     "execution_count": 27,
     "metadata": {},
     "output_type": "execute_result"
    }
   ],
   "source": [
    "df2020.describe()"
   ]
  },
  {
   "cell_type": "markdown",
   "id": "89fdb6f9-24f3-43ee-b380-48e954261ca2",
   "metadata": {},
   "source": [
    "We save the updated dataframe to file."
   ]
  },
  {
   "cell_type": "code",
   "execution_count": 28,
   "id": "61e63a7c-9f1f-4f39-af2e-a4c88701428a",
   "metadata": {},
   "outputs": [],
   "source": [
    "# saving updated pandas dataframe as csv file\n",
    "# creating path\n",
    "path2020b = 'data/CAO2020_' + nowstr + '.csv'\n",
    "# writing to csv\n",
    "df2020.to_csv(path2020b)"
   ]
  },
  {
   "cell_type": "markdown",
   "id": "919e2fcd-0ff2-49e4-84c3-6c0c3311d84d",
   "metadata": {},
   "source": [
    "<br>\n",
    "\n",
    "---\n",
    "\n",
    "## 2019 Points\n",
    "\n",
    "---"
   ]
  },
  {
   "cell_type": "markdown",
   "id": "40b064d7-cfe9-48c9-8bee-3d5e537873b8",
   "metadata": {},
   "source": [
    "The 2019 points are in PDF format! A bit of googling found the `tabula` library which seems to deal with PDFs quite easily.\n",
    "Link to tabula - https://github.com/chezou/tabula-py. I installed it by running `pip install tabula-py`."
   ]
  },
  {
   "cell_type": "code",
   "execution_count": 29,
   "id": "c23bad18-5d3c-4c60-b66f-a4e504c3b6e1",
   "metadata": {
    "scrolled": true,
    "tags": []
   },
   "outputs": [],
   "source": [
    "# access the pdf file using parameters in referenced link above\n",
    "df = tabula.read_pdf(url2019, stream=True, pages=\"all\")\n",
    "\n",
    "# have a look\n",
    "# df"
   ]
  },
  {
   "cell_type": "markdown",
   "id": "4855d651-b458-4ce1-b4ed-b03a0437965d",
   "metadata": {},
   "source": [
    "Seems to work!  \n",
    "Next, we convert it to a csv file and name it using the timestamp method again, and save it to the data folder."
   ]
  },
  {
   "cell_type": "code",
   "execution_count": 30,
   "id": "862239b4-06d6-4050-af64-7258eccb6aaa",
   "metadata": {},
   "outputs": [],
   "source": [
    "# convert PDF into CSV file\n",
    "tabula.convert_into(url2019, 'data/CAO2019_' + nowstr + '.csv', output_format=\"csv\", pages='all')"
   ]
  },
  {
   "cell_type": "markdown",
   "id": "b4c17de3-3208-4d4b-a6e4-8f139022df95",
   "metadata": {},
   "source": [
    "We read it in again with `pandas`."
   ]
  },
  {
   "cell_type": "code",
   "execution_count": 31,
   "id": "1eb52d96-5d5e-47fd-8820-7dec80226f8e",
   "metadata": {},
   "outputs": [
    {
     "data": {
      "text/html": [
       "<div>\n",
       "<style scoped>\n",
       "    .dataframe tbody tr th:only-of-type {\n",
       "        vertical-align: middle;\n",
       "    }\n",
       "\n",
       "    .dataframe tbody tr th {\n",
       "        vertical-align: top;\n",
       "    }\n",
       "\n",
       "    .dataframe thead th {\n",
       "        text-align: right;\n",
       "    }\n",
       "</style>\n",
       "<table border=\"1\" class=\"dataframe\">\n",
       "  <thead>\n",
       "    <tr style=\"text-align: right;\">\n",
       "      <th></th>\n",
       "      <th>Course Code</th>\n",
       "      <th>INSTITUTION and COURSE</th>\n",
       "      <th>EOS</th>\n",
       "      <th>Mid</th>\n",
       "    </tr>\n",
       "  </thead>\n",
       "  <tbody>\n",
       "    <tr>\n",
       "      <th>0</th>\n",
       "      <td>NaN</td>\n",
       "      <td>Athlone Institute of Technology</td>\n",
       "      <td>NaN</td>\n",
       "      <td>NaN</td>\n",
       "    </tr>\n",
       "    <tr>\n",
       "      <th>1</th>\n",
       "      <td>AL801</td>\n",
       "      <td>Software Design with Virtual Reality and Gaming</td>\n",
       "      <td>304</td>\n",
       "      <td>328</td>\n",
       "    </tr>\n",
       "    <tr>\n",
       "      <th>2</th>\n",
       "      <td>AL802</td>\n",
       "      <td>Software Design with Cloud Computing</td>\n",
       "      <td>301</td>\n",
       "      <td>306</td>\n",
       "    </tr>\n",
       "    <tr>\n",
       "      <th>3</th>\n",
       "      <td>AL803</td>\n",
       "      <td>Software Design with Mobile Apps and Connected...</td>\n",
       "      <td>309</td>\n",
       "      <td>337</td>\n",
       "    </tr>\n",
       "    <tr>\n",
       "      <th>4</th>\n",
       "      <td>AL805</td>\n",
       "      <td>Network Management and Cloud Infrastructure</td>\n",
       "      <td>329</td>\n",
       "      <td>442</td>\n",
       "    </tr>\n",
       "    <tr>\n",
       "      <th>5</th>\n",
       "      <td>AL810</td>\n",
       "      <td>Quantity Surveying</td>\n",
       "      <td>307</td>\n",
       "      <td>349</td>\n",
       "    </tr>\n",
       "    <tr>\n",
       "      <th>6</th>\n",
       "      <td>AL820</td>\n",
       "      <td>Mechanical and Polymer Engineering</td>\n",
       "      <td>300</td>\n",
       "      <td>358</td>\n",
       "    </tr>\n",
       "    <tr>\n",
       "      <th>7</th>\n",
       "      <td>AL830</td>\n",
       "      <td>General Nursing</td>\n",
       "      <td>410</td>\n",
       "      <td>429</td>\n",
       "    </tr>\n",
       "    <tr>\n",
       "      <th>8</th>\n",
       "      <td>AL832</td>\n",
       "      <td>Psychiatric Nursing</td>\n",
       "      <td>387</td>\n",
       "      <td>403</td>\n",
       "    </tr>\n",
       "    <tr>\n",
       "      <th>9</th>\n",
       "      <td>AL836</td>\n",
       "      <td>Nutrition and Health Science</td>\n",
       "      <td>352</td>\n",
       "      <td>383</td>\n",
       "    </tr>\n",
       "  </tbody>\n",
       "</table>\n",
       "</div>"
      ],
      "text/plain": [
       "  Course Code                             INSTITUTION and COURSE  EOS  Mid\n",
       "0         NaN                    Athlone Institute of Technology  NaN  NaN\n",
       "1       AL801    Software Design with Virtual Reality and Gaming  304  328\n",
       "2       AL802               Software Design with Cloud Computing  301  306\n",
       "3       AL803  Software Design with Mobile Apps and Connected...  309  337\n",
       "4       AL805        Network Management and Cloud Infrastructure  329  442\n",
       "5       AL810                                 Quantity Surveying  307  349\n",
       "6       AL820                 Mechanical and Polymer Engineering  300  358\n",
       "7       AL830                                    General Nursing  410  429\n",
       "8       AL832                                Psychiatric Nursing  387  403\n",
       "9       AL836                       Nutrition and Health Science  352  383"
      ]
     },
     "execution_count": 31,
     "metadata": {},
     "output_type": "execute_result"
    }
   ],
   "source": [
    "# reads in the csv file\n",
    "df2019 = pd.read_csv(\"data/CAO2019_20220102_161053.csv\")\n",
    "\n",
    "# have a look\n",
    "df2019.head(10)"
   ]
  },
  {
   "cell_type": "markdown",
   "id": "99737145-c1f9-46a9-8f8e-75917d7d20f6",
   "metadata": {},
   "source": [
    "A few issues here. Firstly we don't have any indiviual round 1 and 2 points - just EOS and a column named 'Mid'. Also the univeristy names are taking up rows! We'll deal with that first (solution based on https://pandas.pydata.org/pandas-docs/stable/reference/api/pandas.DataFrame.dropna.html).  \n",
    "On inspection of the data we see that every course entry has a course code and an EOS/Mid entry. The institution names contain NaNs for these fields, so we use the `.dropna()` method to get rid of these."
   ]
  },
  {
   "cell_type": "code",
   "execution_count": 32,
   "id": "ec8ceea6-5599-4f22-8657-5805eb38251d",
   "metadata": {},
   "outputs": [
    {
     "data": {
      "text/html": [
       "<div>\n",
       "<style scoped>\n",
       "    .dataframe tbody tr th:only-of-type {\n",
       "        vertical-align: middle;\n",
       "    }\n",
       "\n",
       "    .dataframe tbody tr th {\n",
       "        vertical-align: top;\n",
       "    }\n",
       "\n",
       "    .dataframe thead th {\n",
       "        text-align: right;\n",
       "    }\n",
       "</style>\n",
       "<table border=\"1\" class=\"dataframe\">\n",
       "  <thead>\n",
       "    <tr style=\"text-align: right;\">\n",
       "      <th></th>\n",
       "      <th>Course Code</th>\n",
       "      <th>INSTITUTION and COURSE</th>\n",
       "      <th>EOS</th>\n",
       "      <th>Mid</th>\n",
       "    </tr>\n",
       "  </thead>\n",
       "  <tbody>\n",
       "    <tr>\n",
       "      <th>1</th>\n",
       "      <td>AL801</td>\n",
       "      <td>Software Design with Virtual Reality and Gaming</td>\n",
       "      <td>304</td>\n",
       "      <td>328</td>\n",
       "    </tr>\n",
       "    <tr>\n",
       "      <th>2</th>\n",
       "      <td>AL802</td>\n",
       "      <td>Software Design with Cloud Computing</td>\n",
       "      <td>301</td>\n",
       "      <td>306</td>\n",
       "    </tr>\n",
       "    <tr>\n",
       "      <th>3</th>\n",
       "      <td>AL803</td>\n",
       "      <td>Software Design with Mobile Apps and Connected...</td>\n",
       "      <td>309</td>\n",
       "      <td>337</td>\n",
       "    </tr>\n",
       "    <tr>\n",
       "      <th>4</th>\n",
       "      <td>AL805</td>\n",
       "      <td>Network Management and Cloud Infrastructure</td>\n",
       "      <td>329</td>\n",
       "      <td>442</td>\n",
       "    </tr>\n",
       "    <tr>\n",
       "      <th>5</th>\n",
       "      <td>AL810</td>\n",
       "      <td>Quantity Surveying</td>\n",
       "      <td>307</td>\n",
       "      <td>349</td>\n",
       "    </tr>\n",
       "  </tbody>\n",
       "</table>\n",
       "</div>"
      ],
      "text/plain": [
       "  Course Code                             INSTITUTION and COURSE  EOS  Mid\n",
       "1       AL801    Software Design with Virtual Reality and Gaming  304  328\n",
       "2       AL802               Software Design with Cloud Computing  301  306\n",
       "3       AL803  Software Design with Mobile Apps and Connected...  309  337\n",
       "4       AL805        Network Management and Cloud Infrastructure  329  442\n",
       "5       AL810                                 Quantity Surveying  307  349"
      ]
     },
     "execution_count": 32,
     "metadata": {},
     "output_type": "execute_result"
    }
   ],
   "source": [
    "# deletes rows where there are blanks\n",
    "df2019 = df2019.dropna(subset=['Course Code'])\n",
    "\n",
    "# have a look\n",
    "df2019.head()"
   ]
  },
  {
   "cell_type": "markdown",
   "id": "17145f5c-9c90-4171-a908-b786682a16cb",
   "metadata": {},
   "source": [
    "We also need to rename the headers to match the other years files. As we don't have round 1 and 2 points we'll just take 'EOS' (Mid doesn't really seem relevent to us and we've nothing comparable in 2021)"
   ]
  },
  {
   "cell_type": "code",
   "execution_count": 33,
   "id": "04e1b702-87b7-455e-8cb2-c7e619495b8c",
   "metadata": {},
   "outputs": [
    {
     "data": {
      "text/html": [
       "<div>\n",
       "<style scoped>\n",
       "    .dataframe tbody tr th:only-of-type {\n",
       "        vertical-align: middle;\n",
       "    }\n",
       "\n",
       "    .dataframe tbody tr th {\n",
       "        vertical-align: top;\n",
       "    }\n",
       "\n",
       "    .dataframe thead th {\n",
       "        text-align: right;\n",
       "    }\n",
       "</style>\n",
       "<table border=\"1\" class=\"dataframe\">\n",
       "  <thead>\n",
       "    <tr style=\"text-align: right;\">\n",
       "      <th></th>\n",
       "      <th>Course_Code</th>\n",
       "      <th>Course_Title</th>\n",
       "      <th>EOS_2019</th>\n",
       "      <th>Mid</th>\n",
       "    </tr>\n",
       "  </thead>\n",
       "  <tbody>\n",
       "    <tr>\n",
       "      <th>1</th>\n",
       "      <td>AL801</td>\n",
       "      <td>Software Design with Virtual Reality and Gaming</td>\n",
       "      <td>304</td>\n",
       "      <td>328</td>\n",
       "    </tr>\n",
       "    <tr>\n",
       "      <th>2</th>\n",
       "      <td>AL802</td>\n",
       "      <td>Software Design with Cloud Computing</td>\n",
       "      <td>301</td>\n",
       "      <td>306</td>\n",
       "    </tr>\n",
       "    <tr>\n",
       "      <th>3</th>\n",
       "      <td>AL803</td>\n",
       "      <td>Software Design with Mobile Apps and Connected...</td>\n",
       "      <td>309</td>\n",
       "      <td>337</td>\n",
       "    </tr>\n",
       "    <tr>\n",
       "      <th>4</th>\n",
       "      <td>AL805</td>\n",
       "      <td>Network Management and Cloud Infrastructure</td>\n",
       "      <td>329</td>\n",
       "      <td>442</td>\n",
       "    </tr>\n",
       "    <tr>\n",
       "      <th>5</th>\n",
       "      <td>AL810</td>\n",
       "      <td>Quantity Surveying</td>\n",
       "      <td>307</td>\n",
       "      <td>349</td>\n",
       "    </tr>\n",
       "  </tbody>\n",
       "</table>\n",
       "</div>"
      ],
      "text/plain": [
       "  Course_Code                                       Course_Title EOS_2019  Mid\n",
       "1       AL801    Software Design with Virtual Reality and Gaming      304  328\n",
       "2       AL802               Software Design with Cloud Computing      301  306\n",
       "3       AL803  Software Design with Mobile Apps and Connected...      309  337\n",
       "4       AL805        Network Management and Cloud Infrastructure      329  442\n",
       "5       AL810                                 Quantity Surveying      307  349"
      ]
     },
     "execution_count": 33,
     "metadata": {},
     "output_type": "execute_result"
    }
   ],
   "source": [
    "# rename columns for Course_code and Course_title but leave the others\n",
    "df2019 = df2019.rename(columns={'INSTITUTION and COURSE': 'Course_Title', \n",
    "                                'Course Code': 'Course_Code', 'EOS': 'EOS_2019'})\n",
    "\n",
    "# have a look\n",
    "df2019.head()"
   ]
  },
  {
   "cell_type": "markdown",
   "id": "676fc427-3ae6-41fb-96b7-aa6945de6b6c",
   "metadata": {},
   "source": [
    "A quick overview of the data."
   ]
  },
  {
   "cell_type": "code",
   "execution_count": 34,
   "id": "3ffcdf04-6e6e-4e4e-9459-d2018d02b78a",
   "metadata": {},
   "outputs": [
    {
     "name": "stdout",
     "output_type": "stream",
     "text": [
      "<class 'pandas.core.frame.DataFrame'>\n",
      "Int64Index: 930 entries, 1 to 964\n",
      "Data columns (total 4 columns):\n",
      " #   Column        Non-Null Count  Dtype \n",
      "---  ------        --------------  ----- \n",
      " 0   Course_Code   930 non-null    object\n",
      " 1   Course_Title  930 non-null    object\n",
      " 2   EOS_2019      926 non-null    object\n",
      " 3   Mid           915 non-null    object\n",
      "dtypes: object(4)\n",
      "memory usage: 36.3+ KB\n"
     ]
    }
   ],
   "source": [
    "# overview\n",
    "df2019.info()"
   ]
  },
  {
   "cell_type": "markdown",
   "id": "848f2608-9816-4148-99da-79292d561422",
   "metadata": {},
   "source": [
    "Again we need to conver the points data from object to numeric."
   ]
  },
  {
   "cell_type": "code",
   "execution_count": 35,
   "id": "90769553-42e4-4b1c-acff-643d7ce84292",
   "metadata": {},
   "outputs": [],
   "source": [
    "# https://stackoverflow.com/questions/39173813/pandas-convert-dtype-object-to-int\n",
    "df2019['EOS_2019'] = pd.to_numeric(df2019['EOS_2019'], errors='coerce')"
   ]
  },
  {
   "cell_type": "markdown",
   "id": "7d17d53e-19d7-4448-97ba-8dffddb8c870",
   "metadata": {},
   "source": [
    "And we'll do some initial analysis of the data."
   ]
  },
  {
   "cell_type": "code",
   "execution_count": 36,
   "id": "38de9bda-ac9d-4cc5-9a5d-1177529b5bdd",
   "metadata": {},
   "outputs": [
    {
     "data": {
      "text/html": [
       "<div>\n",
       "<style scoped>\n",
       "    .dataframe tbody tr th:only-of-type {\n",
       "        vertical-align: middle;\n",
       "    }\n",
       "\n",
       "    .dataframe tbody tr th {\n",
       "        vertical-align: top;\n",
       "    }\n",
       "\n",
       "    .dataframe thead th {\n",
       "        text-align: right;\n",
       "    }\n",
       "</style>\n",
       "<table border=\"1\" class=\"dataframe\">\n",
       "  <thead>\n",
       "    <tr style=\"text-align: right;\">\n",
       "      <th></th>\n",
       "      <th>EOS_2019</th>\n",
       "    </tr>\n",
       "  </thead>\n",
       "  <tbody>\n",
       "    <tr>\n",
       "      <th>count</th>\n",
       "      <td>791.000000</td>\n",
       "    </tr>\n",
       "    <tr>\n",
       "      <th>mean</th>\n",
       "      <td>351.364096</td>\n",
       "    </tr>\n",
       "    <tr>\n",
       "      <th>std</th>\n",
       "      <td>88.284545</td>\n",
       "    </tr>\n",
       "    <tr>\n",
       "      <th>min</th>\n",
       "      <td>168.000000</td>\n",
       "    </tr>\n",
       "    <tr>\n",
       "      <th>25%</th>\n",
       "      <td>285.500000</td>\n",
       "    </tr>\n",
       "    <tr>\n",
       "      <th>50%</th>\n",
       "      <td>330.000000</td>\n",
       "    </tr>\n",
       "    <tr>\n",
       "      <th>75%</th>\n",
       "      <td>410.000000</td>\n",
       "    </tr>\n",
       "    <tr>\n",
       "      <th>max</th>\n",
       "      <td>601.000000</td>\n",
       "    </tr>\n",
       "  </tbody>\n",
       "</table>\n",
       "</div>"
      ],
      "text/plain": [
       "         EOS_2019\n",
       "count  791.000000\n",
       "mean   351.364096\n",
       "std     88.284545\n",
       "min    168.000000\n",
       "25%    285.500000\n",
       "50%    330.000000\n",
       "75%    410.000000\n",
       "max    601.000000"
      ]
     },
     "execution_count": 36,
     "metadata": {},
     "output_type": "execute_result"
    }
   ],
   "source": [
    "df2019.describe()"
   ]
  },
  {
   "cell_type": "markdown",
   "id": "e8b7056b-6756-49bf-9930-43d596af8942",
   "metadata": {},
   "source": [
    "We save the amended file using the same method as above."
   ]
  },
  {
   "cell_type": "code",
   "execution_count": 37,
   "id": "cd6ee824-2689-4fd8-abf4-59d41594907e",
   "metadata": {},
   "outputs": [],
   "source": [
    "# create a new path\n",
    "path2019b = 'data/CAO2019_' + nowstr + '.csv'\n",
    "\n",
    "# saving amended file to folder\n",
    "df2019.to_csv(path2019b)"
   ]
  },
  {
   "cell_type": "markdown",
   "id": "8bd00002-4e3f-4807-9987-11e03ae5b1a5",
   "metadata": {},
   "source": [
    "<br>\n",
    "\n",
    "---\n",
    "\n",
    "### Concat and join\n",
    "\n",
    "---"
   ]
  },
  {
   "cell_type": "markdown",
   "id": "6d4e9140-3fd5-4a88-b541-59f7fb03aac2",
   "metadata": {},
   "source": [
    "Now we have the data in a useable form we start to do some work on it and prepare it for analysis. We begin by isolating the course code and course title from each year and creating new variables for each."
   ]
  },
  {
   "cell_type": "code",
   "execution_count": 38,
   "id": "8bceb9e2-7dae-44d6-8413-b19584c6a45b",
   "metadata": {},
   "outputs": [
    {
     "data": {
      "text/html": [
       "<div>\n",
       "<style scoped>\n",
       "    .dataframe tbody tr th:only-of-type {\n",
       "        vertical-align: middle;\n",
       "    }\n",
       "\n",
       "    .dataframe tbody tr th {\n",
       "        vertical-align: top;\n",
       "    }\n",
       "\n",
       "    .dataframe thead th {\n",
       "        text-align: right;\n",
       "    }\n",
       "</style>\n",
       "<table border=\"1\" class=\"dataframe\">\n",
       "  <thead>\n",
       "    <tr style=\"text-align: right;\">\n",
       "      <th></th>\n",
       "      <th>Course_Code</th>\n",
       "      <th>Course_Title</th>\n",
       "    </tr>\n",
       "  </thead>\n",
       "  <tbody>\n",
       "    <tr>\n",
       "      <th>0</th>\n",
       "      <td>AL801</td>\n",
       "      <td>Software Design for Virtual Reality and Gaming</td>\n",
       "    </tr>\n",
       "    <tr>\n",
       "      <th>1</th>\n",
       "      <td>AL802</td>\n",
       "      <td>Software Design in Artificial Intelligence for...</td>\n",
       "    </tr>\n",
       "    <tr>\n",
       "      <th>2</th>\n",
       "      <td>AL803</td>\n",
       "      <td>Software Design for Mobile Apps and Connected ...</td>\n",
       "    </tr>\n",
       "    <tr>\n",
       "      <th>3</th>\n",
       "      <td>AL805</td>\n",
       "      <td>Computer Engineering for Network Infrastructure</td>\n",
       "    </tr>\n",
       "    <tr>\n",
       "      <th>4</th>\n",
       "      <td>AL810</td>\n",
       "      <td>Quantity Surveying</td>\n",
       "    </tr>\n",
       "  </tbody>\n",
       "</table>\n",
       "</div>"
      ],
      "text/plain": [
       "  Course_Code                                       Course_Title\n",
       "0       AL801     Software Design for Virtual Reality and Gaming\n",
       "1       AL802  Software Design in Artificial Intelligence for...\n",
       "2       AL803  Software Design for Mobile Apps and Connected ...\n",
       "3       AL805    Computer Engineering for Network Infrastructure\n",
       "4       AL810                                 Quantity Surveying"
      ]
     },
     "execution_count": 38,
     "metadata": {},
     "output_type": "execute_result"
    }
   ],
   "source": [
    "# create new variable\n",
    "courses2021 = df2021[['Course_Code', 'Course_Title']]\n",
    "\n",
    "# have a look\n",
    "courses2021.head()"
   ]
  },
  {
   "cell_type": "code",
   "execution_count": 39,
   "id": "0aa5c5e4-581e-4e32-b345-232266f62861",
   "metadata": {},
   "outputs": [],
   "source": [
    "# create new variable\n",
    "courses2020 = df2020[['Course_Code', 'Course_Title']]"
   ]
  },
  {
   "cell_type": "code",
   "execution_count": 40,
   "id": "8a5f5cd8-e841-4313-ab35-44e7d4ba1f78",
   "metadata": {},
   "outputs": [],
   "source": [
    "# create new variable\n",
    "courses2019 = df2019[['Course_Code', 'Course_Title']]"
   ]
  },
  {
   "cell_type": "markdown",
   "id": "dfe85ffb-8a76-441b-ad8b-b574ff5a54a2",
   "metadata": {},
   "source": [
    "We use `pandas.concat` to concatenate each of these variables to the one dataframe which we call `allCourses`."
   ]
  },
  {
   "cell_type": "code",
   "execution_count": 41,
   "id": "fada33af-a9d4-4fe4-af7c-03c9389c28c2",
   "metadata": {
    "tags": []
   },
   "outputs": [],
   "source": [
    "# concatenate\n",
    "allCourses = pd.concat([courses2021, courses2020, courses2019], ignore_index=True)\n",
    "\n",
    "# have a look\n",
    "# allCourses.head()"
   ]
  },
  {
   "cell_type": "markdown",
   "id": "acde420f-f127-42cb-9fa2-aa7cd8abb828",
   "metadata": {},
   "source": [
    "We sort the values into alphabetical order based on course code."
   ]
  },
  {
   "cell_type": "code",
   "execution_count": 42,
   "id": "d6d82612-de35-472c-85a8-da2695d80951",
   "metadata": {},
   "outputs": [],
   "source": [
    "# sort values\n",
    "allCourses = allCourses.sort_values('Course_Code')"
   ]
  },
  {
   "cell_type": "markdown",
   "id": "a17d896e-e0b7-41e6-8011-f7e677208a4c",
   "metadata": {},
   "source": [
    "We show all duplicated rows using the `pandas.duplicated` method."
   ]
  },
  {
   "cell_type": "code",
   "execution_count": 43,
   "id": "fc8e4e0a-cae2-46e4-a460-0ef02830a9cc",
   "metadata": {},
   "outputs": [
    {
     "data": {
      "text/html": [
       "<div>\n",
       "<style scoped>\n",
       "    .dataframe tbody tr th:only-of-type {\n",
       "        vertical-align: middle;\n",
       "    }\n",
       "\n",
       "    .dataframe tbody tr th {\n",
       "        vertical-align: top;\n",
       "    }\n",
       "\n",
       "    .dataframe thead th {\n",
       "        text-align: right;\n",
       "    }\n",
       "</style>\n",
       "<table border=\"1\" class=\"dataframe\">\n",
       "  <thead>\n",
       "    <tr style=\"text-align: right;\">\n",
       "      <th></th>\n",
       "      <th>Course_Code</th>\n",
       "      <th>Course_Title</th>\n",
       "    </tr>\n",
       "  </thead>\n",
       "  <tbody>\n",
       "    <tr>\n",
       "      <th>2144</th>\n",
       "      <td>AC120</td>\n",
       "      <td>International Business</td>\n",
       "    </tr>\n",
       "    <tr>\n",
       "      <th>949</th>\n",
       "      <td>AC120</td>\n",
       "      <td>International Business</td>\n",
       "    </tr>\n",
       "    <tr>\n",
       "      <th>2145</th>\n",
       "      <td>AC137</td>\n",
       "      <td>Liberal Arts</td>\n",
       "    </tr>\n",
       "    <tr>\n",
       "      <th>950</th>\n",
       "      <td>AC137</td>\n",
       "      <td>Liberal Arts</td>\n",
       "    </tr>\n",
       "    <tr>\n",
       "      <th>2390</th>\n",
       "      <td>AD101</td>\n",
       "      <td>First Year Art &amp; Design (Common Entry)</td>\n",
       "    </tr>\n",
       "    <tr>\n",
       "      <th>...</th>\n",
       "      <td>...</td>\n",
       "      <td>...</td>\n",
       "    </tr>\n",
       "    <tr>\n",
       "      <th>944</th>\n",
       "      <td>WD211</td>\n",
       "      <td>Creative Computing</td>\n",
       "    </tr>\n",
       "    <tr>\n",
       "      <th>945</th>\n",
       "      <td>WD212</td>\n",
       "      <td>Recreation and Sport Management</td>\n",
       "    </tr>\n",
       "    <tr>\n",
       "      <th>1974</th>\n",
       "      <td>WD212</td>\n",
       "      <td>Recreation and Sport Management</td>\n",
       "    </tr>\n",
       "    <tr>\n",
       "      <th>946</th>\n",
       "      <td>WD230</td>\n",
       "      <td>Mechanical and Manufacturing Engineering</td>\n",
       "    </tr>\n",
       "    <tr>\n",
       "      <th>2905</th>\n",
       "      <td>WD230</td>\n",
       "      <td>Mechanical and Manufacturing Engineering</td>\n",
       "    </tr>\n",
       "  </tbody>\n",
       "</table>\n",
       "<p>1692 rows × 2 columns</p>\n",
       "</div>"
      ],
      "text/plain": [
       "     Course_Code                              Course_Title\n",
       "2144       AC120                    International Business\n",
       "949        AC120                    International Business\n",
       "2145       AC137                              Liberal Arts\n",
       "950        AC137                              Liberal Arts\n",
       "2390       AD101    First Year Art & Design (Common Entry)\n",
       "...          ...                                       ...\n",
       "944        WD211                        Creative Computing\n",
       "945        WD212           Recreation and Sport Management\n",
       "1974       WD212           Recreation and Sport Management\n",
       "946        WD230  Mechanical and Manufacturing Engineering\n",
       "2905       WD230  Mechanical and Manufacturing Engineering\n",
       "\n",
       "[1692 rows x 2 columns]"
      ]
     },
     "execution_count": 43,
     "metadata": {},
     "output_type": "execute_result"
    }
   ],
   "source": [
    "allCourses[allCourses.duplicated(subset=['Course_Code'])]"
   ]
  },
  {
   "cell_type": "markdown",
   "id": "b36e3a4c-2150-45dc-9eef-196e0a4fe142",
   "metadata": {},
   "source": [
    "We drop all the duplicated rows."
   ]
  },
  {
   "cell_type": "code",
   "execution_count": 44,
   "id": "4c405801-ff73-44a0-8adf-8b98a8c599bd",
   "metadata": {
    "tags": []
   },
   "outputs": [],
   "source": [
    "# drop duplicates based on code\n",
    "# inplace changes original dataframe - default is opposite\n",
    "allCourses.drop_duplicates(subset=['Course_Code'], inplace=True, ignore_index=True)\n",
    "# allCourses"
   ]
  },
  {
   "cell_type": "markdown",
   "id": "6988dd93-e835-4bef-a333-60d1cb8f2864",
   "metadata": {},
   "source": [
    "---\n",
    "\n",
    "### Join to the points\n",
    "\n",
    "---"
   ]
  },
  {
   "cell_type": "markdown",
   "id": "a30a830b-01ce-40a4-aee1-d98293783268",
   "metadata": {},
   "source": [
    "We set the index to 'Course_code'."
   ]
  },
  {
   "cell_type": "code",
   "execution_count": 45,
   "id": "0685ceeb-b58c-44e0-8824-133f54ef3f63",
   "metadata": {},
   "outputs": [],
   "source": [
    "# set index\n",
    "allCourses.set_index('Course_Code', inplace=True)"
   ]
  },
  {
   "cell_type": "code",
   "execution_count": 46,
   "id": "8fc557fd-0996-4278-ba41-d287f051a838",
   "metadata": {},
   "outputs": [],
   "source": [
    "df2021_FINAL = df2021[['Course_Code', 'finalPoints2021']]\n",
    "# df2021_FINAL"
   ]
  },
  {
   "cell_type": "code",
   "execution_count": 47,
   "id": "c6641d23-d8ac-4493-8266-a6f37d067d15",
   "metadata": {},
   "outputs": [],
   "source": [
    "df2021_FINAL.set_index('Course_Code', inplace=True)"
   ]
  },
  {
   "cell_type": "code",
   "execution_count": 48,
   "id": "07113f67-e0d7-4454-b748-448d195a263b",
   "metadata": {},
   "outputs": [
    {
     "data": {
      "text/html": [
       "<div>\n",
       "<style scoped>\n",
       "    .dataframe tbody tr th:only-of-type {\n",
       "        vertical-align: middle;\n",
       "    }\n",
       "\n",
       "    .dataframe tbody tr th {\n",
       "        vertical-align: top;\n",
       "    }\n",
       "\n",
       "    .dataframe thead th {\n",
       "        text-align: right;\n",
       "    }\n",
       "</style>\n",
       "<table border=\"1\" class=\"dataframe\">\n",
       "  <thead>\n",
       "    <tr style=\"text-align: right;\">\n",
       "      <th></th>\n",
       "      <th>Course_Title</th>\n",
       "      <th>finalPoints2021</th>\n",
       "    </tr>\n",
       "    <tr>\n",
       "      <th>Course_Code</th>\n",
       "      <th></th>\n",
       "      <th></th>\n",
       "    </tr>\n",
       "  </thead>\n",
       "  <tbody>\n",
       "    <tr>\n",
       "      <th>AC120</th>\n",
       "      <td>International Business</td>\n",
       "      <td>294.0</td>\n",
       "    </tr>\n",
       "    <tr>\n",
       "      <th>AC137</th>\n",
       "      <td>Liberal Arts</td>\n",
       "      <td>270.0</td>\n",
       "    </tr>\n",
       "    <tr>\n",
       "      <th>AD101</th>\n",
       "      <td>First Year Art and Design (Common Entry portfo...</td>\n",
       "      <td>554.0</td>\n",
       "    </tr>\n",
       "    <tr>\n",
       "      <th>AD102</th>\n",
       "      <td>Graphic Design and Moving Image Design (portfo...</td>\n",
       "      <td>538.0</td>\n",
       "    </tr>\n",
       "    <tr>\n",
       "      <th>AD103</th>\n",
       "      <td>Textile and Surface Design and Jewellery and O...</td>\n",
       "      <td>505.0</td>\n",
       "    </tr>\n",
       "  </tbody>\n",
       "</table>\n",
       "</div>"
      ],
      "text/plain": [
       "                                                  Course_Title  \\\n",
       "Course_Code                                                      \n",
       "AC120                                   International Business   \n",
       "AC137                                             Liberal Arts   \n",
       "AD101        First Year Art and Design (Common Entry portfo...   \n",
       "AD102        Graphic Design and Moving Image Design (portfo...   \n",
       "AD103        Textile and Surface Design and Jewellery and O...   \n",
       "\n",
       "             finalPoints2021  \n",
       "Course_Code                   \n",
       "AC120                  294.0  \n",
       "AC137                  270.0  \n",
       "AD101                  554.0  \n",
       "AD102                  538.0  \n",
       "AD103                  505.0  "
      ]
     },
     "execution_count": 48,
     "metadata": {},
     "output_type": "execute_result"
    }
   ],
   "source": [
    "allCourses = allCourses.join(df2021_FINAL)\n",
    "allCourses.head()"
   ]
  },
  {
   "cell_type": "code",
   "execution_count": 49,
   "id": "552f545b-fca7-4fa4-ae8a-e6164f9a18eb",
   "metadata": {},
   "outputs": [],
   "source": [
    "df2020_EOS = df2020[['Course_Code', 'EOS_2020']]"
   ]
  },
  {
   "cell_type": "code",
   "execution_count": 50,
   "id": "27f91ab4-4a72-43c4-92cb-d7ff89613b87",
   "metadata": {},
   "outputs": [],
   "source": [
    "df2020_EOS.set_index('Course_Code', inplace=True)\n",
    "# df2020_r1"
   ]
  },
  {
   "cell_type": "code",
   "execution_count": 51,
   "id": "2b577f63-9d36-47d5-929a-2ea560b41a55",
   "metadata": {},
   "outputs": [
    {
     "data": {
      "text/html": [
       "<div>\n",
       "<style scoped>\n",
       "    .dataframe tbody tr th:only-of-type {\n",
       "        vertical-align: middle;\n",
       "    }\n",
       "\n",
       "    .dataframe tbody tr th {\n",
       "        vertical-align: top;\n",
       "    }\n",
       "\n",
       "    .dataframe thead th {\n",
       "        text-align: right;\n",
       "    }\n",
       "</style>\n",
       "<table border=\"1\" class=\"dataframe\">\n",
       "  <thead>\n",
       "    <tr style=\"text-align: right;\">\n",
       "      <th></th>\n",
       "      <th>Course_Title</th>\n",
       "      <th>finalPoints2021</th>\n",
       "      <th>EOS_2020</th>\n",
       "    </tr>\n",
       "    <tr>\n",
       "      <th>Course_Code</th>\n",
       "      <th></th>\n",
       "      <th></th>\n",
       "      <th></th>\n",
       "    </tr>\n",
       "  </thead>\n",
       "  <tbody>\n",
       "    <tr>\n",
       "      <th>AC120</th>\n",
       "      <td>International Business</td>\n",
       "      <td>294.0</td>\n",
       "      <td>209.0</td>\n",
       "    </tr>\n",
       "    <tr>\n",
       "      <th>AC137</th>\n",
       "      <td>Liberal Arts</td>\n",
       "      <td>270.0</td>\n",
       "      <td>252.0</td>\n",
       "    </tr>\n",
       "    <tr>\n",
       "      <th>AD101</th>\n",
       "      <td>First Year Art and Design (Common Entry portfo...</td>\n",
       "      <td>554.0</td>\n",
       "      <td>NaN</td>\n",
       "    </tr>\n",
       "    <tr>\n",
       "      <th>AD102</th>\n",
       "      <td>Graphic Design and Moving Image Design (portfo...</td>\n",
       "      <td>538.0</td>\n",
       "      <td>NaN</td>\n",
       "    </tr>\n",
       "    <tr>\n",
       "      <th>AD103</th>\n",
       "      <td>Textile and Surface Design and Jewellery and O...</td>\n",
       "      <td>505.0</td>\n",
       "      <td>NaN</td>\n",
       "    </tr>\n",
       "  </tbody>\n",
       "</table>\n",
       "</div>"
      ],
      "text/plain": [
       "                                                  Course_Title  \\\n",
       "Course_Code                                                      \n",
       "AC120                                   International Business   \n",
       "AC137                                             Liberal Arts   \n",
       "AD101        First Year Art and Design (Common Entry portfo...   \n",
       "AD102        Graphic Design and Moving Image Design (portfo...   \n",
       "AD103        Textile and Surface Design and Jewellery and O...   \n",
       "\n",
       "             finalPoints2021  EOS_2020  \n",
       "Course_Code                             \n",
       "AC120                  294.0     209.0  \n",
       "AC137                  270.0     252.0  \n",
       "AD101                  554.0       NaN  \n",
       "AD102                  538.0       NaN  \n",
       "AD103                  505.0       NaN  "
      ]
     },
     "execution_count": 51,
     "metadata": {},
     "output_type": "execute_result"
    }
   ],
   "source": [
    "allCourses = allCourses.join(df2020_EOS)\n",
    "allCourses.head()"
   ]
  },
  {
   "cell_type": "code",
   "execution_count": 52,
   "id": "6d9baaa0-b4cb-473f-9134-bd2ea318f9f7",
   "metadata": {},
   "outputs": [
    {
     "data": {
      "text/html": [
       "<div>\n",
       "<style scoped>\n",
       "    .dataframe tbody tr th:only-of-type {\n",
       "        vertical-align: middle;\n",
       "    }\n",
       "\n",
       "    .dataframe tbody tr th {\n",
       "        vertical-align: top;\n",
       "    }\n",
       "\n",
       "    .dataframe thead th {\n",
       "        text-align: right;\n",
       "    }\n",
       "</style>\n",
       "<table border=\"1\" class=\"dataframe\">\n",
       "  <thead>\n",
       "    <tr style=\"text-align: right;\">\n",
       "      <th></th>\n",
       "      <th>Course_Code</th>\n",
       "      <th>EOS_2019</th>\n",
       "    </tr>\n",
       "  </thead>\n",
       "  <tbody>\n",
       "    <tr>\n",
       "      <th>1</th>\n",
       "      <td>AL801</td>\n",
       "      <td>304.0</td>\n",
       "    </tr>\n",
       "    <tr>\n",
       "      <th>2</th>\n",
       "      <td>AL802</td>\n",
       "      <td>301.0</td>\n",
       "    </tr>\n",
       "    <tr>\n",
       "      <th>3</th>\n",
       "      <td>AL803</td>\n",
       "      <td>309.0</td>\n",
       "    </tr>\n",
       "    <tr>\n",
       "      <th>4</th>\n",
       "      <td>AL805</td>\n",
       "      <td>329.0</td>\n",
       "    </tr>\n",
       "    <tr>\n",
       "      <th>5</th>\n",
       "      <td>AL810</td>\n",
       "      <td>307.0</td>\n",
       "    </tr>\n",
       "  </tbody>\n",
       "</table>\n",
       "</div>"
      ],
      "text/plain": [
       "  Course_Code  EOS_2019\n",
       "1       AL801     304.0\n",
       "2       AL802     301.0\n",
       "3       AL803     309.0\n",
       "4       AL805     329.0\n",
       "5       AL810     307.0"
      ]
     },
     "execution_count": 52,
     "metadata": {},
     "output_type": "execute_result"
    }
   ],
   "source": [
    "df2019_EOS = df2019[['Course_Code', 'EOS_2019']]\n",
    "df2019_EOS.head()"
   ]
  },
  {
   "cell_type": "code",
   "execution_count": 53,
   "id": "66116ba6-c8f3-4fb9-9e8e-dbbadcb0d2cb",
   "metadata": {},
   "outputs": [
    {
     "data": {
      "text/html": [
       "<div>\n",
       "<style scoped>\n",
       "    .dataframe tbody tr th:only-of-type {\n",
       "        vertical-align: middle;\n",
       "    }\n",
       "\n",
       "    .dataframe tbody tr th {\n",
       "        vertical-align: top;\n",
       "    }\n",
       "\n",
       "    .dataframe thead th {\n",
       "        text-align: right;\n",
       "    }\n",
       "</style>\n",
       "<table border=\"1\" class=\"dataframe\">\n",
       "  <thead>\n",
       "    <tr style=\"text-align: right;\">\n",
       "      <th></th>\n",
       "      <th>EOS_2019</th>\n",
       "    </tr>\n",
       "    <tr>\n",
       "      <th>Course_Code</th>\n",
       "      <th></th>\n",
       "    </tr>\n",
       "  </thead>\n",
       "  <tbody>\n",
       "    <tr>\n",
       "      <th>AL801</th>\n",
       "      <td>304.0</td>\n",
       "    </tr>\n",
       "    <tr>\n",
       "      <th>AL802</th>\n",
       "      <td>301.0</td>\n",
       "    </tr>\n",
       "    <tr>\n",
       "      <th>AL803</th>\n",
       "      <td>309.0</td>\n",
       "    </tr>\n",
       "    <tr>\n",
       "      <th>AL805</th>\n",
       "      <td>329.0</td>\n",
       "    </tr>\n",
       "    <tr>\n",
       "      <th>AL810</th>\n",
       "      <td>307.0</td>\n",
       "    </tr>\n",
       "  </tbody>\n",
       "</table>\n",
       "</div>"
      ],
      "text/plain": [
       "             EOS_2019\n",
       "Course_Code          \n",
       "AL801           304.0\n",
       "AL802           301.0\n",
       "AL803           309.0\n",
       "AL805           329.0\n",
       "AL810           307.0"
      ]
     },
     "execution_count": 53,
     "metadata": {},
     "output_type": "execute_result"
    }
   ],
   "source": [
    "df2019_EOS.set_index('Course_Code', inplace=True)\n",
    "df2019_EOS.head()"
   ]
  },
  {
   "cell_type": "code",
   "execution_count": 54,
   "id": "afe77486-531a-430c-9bb4-a574f3638396",
   "metadata": {},
   "outputs": [
    {
     "data": {
      "text/html": [
       "<div>\n",
       "<style scoped>\n",
       "    .dataframe tbody tr th:only-of-type {\n",
       "        vertical-align: middle;\n",
       "    }\n",
       "\n",
       "    .dataframe tbody tr th {\n",
       "        vertical-align: top;\n",
       "    }\n",
       "\n",
       "    .dataframe thead th {\n",
       "        text-align: right;\n",
       "    }\n",
       "</style>\n",
       "<table border=\"1\" class=\"dataframe\">\n",
       "  <thead>\n",
       "    <tr style=\"text-align: right;\">\n",
       "      <th></th>\n",
       "      <th>Course_Title</th>\n",
       "      <th>finalPoints2021</th>\n",
       "      <th>EOS_2020</th>\n",
       "      <th>EOS_2019</th>\n",
       "    </tr>\n",
       "    <tr>\n",
       "      <th>Course_Code</th>\n",
       "      <th></th>\n",
       "      <th></th>\n",
       "      <th></th>\n",
       "      <th></th>\n",
       "    </tr>\n",
       "  </thead>\n",
       "  <tbody>\n",
       "    <tr>\n",
       "      <th>AC120</th>\n",
       "      <td>International Business</td>\n",
       "      <td>294.0</td>\n",
       "      <td>209.0</td>\n",
       "      <td>234.0</td>\n",
       "    </tr>\n",
       "    <tr>\n",
       "      <th>AC137</th>\n",
       "      <td>Liberal Arts</td>\n",
       "      <td>270.0</td>\n",
       "      <td>252.0</td>\n",
       "      <td>252.0</td>\n",
       "    </tr>\n",
       "    <tr>\n",
       "      <th>AD101</th>\n",
       "      <td>First Year Art and Design (Common Entry portfo...</td>\n",
       "      <td>554.0</td>\n",
       "      <td>NaN</td>\n",
       "      <td>NaN</td>\n",
       "    </tr>\n",
       "    <tr>\n",
       "      <th>AD102</th>\n",
       "      <td>Graphic Design and Moving Image Design (portfo...</td>\n",
       "      <td>538.0</td>\n",
       "      <td>NaN</td>\n",
       "      <td>NaN</td>\n",
       "    </tr>\n",
       "    <tr>\n",
       "      <th>AD103</th>\n",
       "      <td>Textile and Surface Design and Jewellery and O...</td>\n",
       "      <td>505.0</td>\n",
       "      <td>NaN</td>\n",
       "      <td>NaN</td>\n",
       "    </tr>\n",
       "    <tr>\n",
       "      <th>...</th>\n",
       "      <td>...</td>\n",
       "      <td>...</td>\n",
       "      <td>...</td>\n",
       "      <td>...</td>\n",
       "    </tr>\n",
       "    <tr>\n",
       "      <th>WD211</th>\n",
       "      <td>Creative Computing</td>\n",
       "      <td>270.0</td>\n",
       "      <td>271.0</td>\n",
       "      <td>275.0</td>\n",
       "    </tr>\n",
       "    <tr>\n",
       "      <th>WD212</th>\n",
       "      <td>Recreation and Sport Management</td>\n",
       "      <td>262.0</td>\n",
       "      <td>270.0</td>\n",
       "      <td>274.0</td>\n",
       "    </tr>\n",
       "    <tr>\n",
       "      <th>WD230</th>\n",
       "      <td>Mechanical and Manufacturing Engineering</td>\n",
       "      <td>230.0</td>\n",
       "      <td>253.0</td>\n",
       "      <td>273.0</td>\n",
       "    </tr>\n",
       "    <tr>\n",
       "      <th>WD231</th>\n",
       "      <td>Early Childhood Care and Education</td>\n",
       "      <td>266.0</td>\n",
       "      <td>NaN</td>\n",
       "      <td>NaN</td>\n",
       "    </tr>\n",
       "    <tr>\n",
       "      <th>WD232</th>\n",
       "      <td>Business Information Systems</td>\n",
       "      <td>261.0</td>\n",
       "      <td>NaN</td>\n",
       "      <td>NaN</td>\n",
       "    </tr>\n",
       "  </tbody>\n",
       "</table>\n",
       "<p>1214 rows × 4 columns</p>\n",
       "</div>"
      ],
      "text/plain": [
       "                                                  Course_Title  \\\n",
       "Course_Code                                                      \n",
       "AC120                                   International Business   \n",
       "AC137                                             Liberal Arts   \n",
       "AD101        First Year Art and Design (Common Entry portfo...   \n",
       "AD102        Graphic Design and Moving Image Design (portfo...   \n",
       "AD103        Textile and Surface Design and Jewellery and O...   \n",
       "...                                                        ...   \n",
       "WD211                                       Creative Computing   \n",
       "WD212                          Recreation and Sport Management   \n",
       "WD230                 Mechanical and Manufacturing Engineering   \n",
       "WD231                       Early Childhood Care and Education   \n",
       "WD232                             Business Information Systems   \n",
       "\n",
       "             finalPoints2021  EOS_2020  EOS_2019  \n",
       "Course_Code                                       \n",
       "AC120                  294.0     209.0     234.0  \n",
       "AC137                  270.0     252.0     252.0  \n",
       "AD101                  554.0       NaN       NaN  \n",
       "AD102                  538.0       NaN       NaN  \n",
       "AD103                  505.0       NaN       NaN  \n",
       "...                      ...       ...       ...  \n",
       "WD211                  270.0     271.0     275.0  \n",
       "WD212                  262.0     270.0     274.0  \n",
       "WD230                  230.0     253.0     273.0  \n",
       "WD231                  266.0       NaN       NaN  \n",
       "WD232                  261.0       NaN       NaN  \n",
       "\n",
       "[1214 rows x 4 columns]"
      ]
     },
     "execution_count": 54,
     "metadata": {},
     "output_type": "execute_result"
    }
   ],
   "source": [
    "allCourses = allCourses.join(df2019_EOS)\n",
    "allCourses"
   ]
  },
  {
   "cell_type": "markdown",
   "id": "0e75bc25-f41c-4255-8215-f5ce7c37b1b9",
   "metadata": {},
   "source": [
    "Reorder again"
   ]
  },
  {
   "cell_type": "code",
   "execution_count": 55,
   "id": "09b91ed3-c24c-4a71-b11e-b970cce39c09",
   "metadata": {},
   "outputs": [],
   "source": [
    "allCourses = allCourses.sort_values('Course_Code')"
   ]
  },
  {
   "cell_type": "code",
   "execution_count": 56,
   "id": "39e6959b-465b-4296-a3a4-90698ff45202",
   "metadata": {},
   "outputs": [
    {
     "data": {
      "text/html": [
       "<div>\n",
       "<style scoped>\n",
       "    .dataframe tbody tr th:only-of-type {\n",
       "        vertical-align: middle;\n",
       "    }\n",
       "\n",
       "    .dataframe tbody tr th {\n",
       "        vertical-align: top;\n",
       "    }\n",
       "\n",
       "    .dataframe thead th {\n",
       "        text-align: right;\n",
       "    }\n",
       "</style>\n",
       "<table border=\"1\" class=\"dataframe\">\n",
       "  <thead>\n",
       "    <tr style=\"text-align: right;\">\n",
       "      <th></th>\n",
       "      <th>Course_Title</th>\n",
       "      <th>finalPoints2021</th>\n",
       "      <th>EOS_2020</th>\n",
       "      <th>EOS_2019</th>\n",
       "    </tr>\n",
       "    <tr>\n",
       "      <th>Course_Code</th>\n",
       "      <th></th>\n",
       "      <th></th>\n",
       "      <th></th>\n",
       "      <th></th>\n",
       "    </tr>\n",
       "  </thead>\n",
       "  <tbody>\n",
       "    <tr>\n",
       "      <th>AC120</th>\n",
       "      <td>International Business</td>\n",
       "      <td>294.0</td>\n",
       "      <td>209.0</td>\n",
       "      <td>234.0</td>\n",
       "    </tr>\n",
       "    <tr>\n",
       "      <th>AC137</th>\n",
       "      <td>Liberal Arts</td>\n",
       "      <td>270.0</td>\n",
       "      <td>252.0</td>\n",
       "      <td>252.0</td>\n",
       "    </tr>\n",
       "    <tr>\n",
       "      <th>AD101</th>\n",
       "      <td>First Year Art and Design (Common Entry portfo...</td>\n",
       "      <td>554.0</td>\n",
       "      <td>NaN</td>\n",
       "      <td>NaN</td>\n",
       "    </tr>\n",
       "    <tr>\n",
       "      <th>AD102</th>\n",
       "      <td>Graphic Design and Moving Image Design (portfo...</td>\n",
       "      <td>538.0</td>\n",
       "      <td>NaN</td>\n",
       "      <td>NaN</td>\n",
       "    </tr>\n",
       "    <tr>\n",
       "      <th>AD103</th>\n",
       "      <td>Textile and Surface Design and Jewellery and O...</td>\n",
       "      <td>505.0</td>\n",
       "      <td>NaN</td>\n",
       "      <td>NaN</td>\n",
       "    </tr>\n",
       "  </tbody>\n",
       "</table>\n",
       "</div>"
      ],
      "text/plain": [
       "                                                  Course_Title  \\\n",
       "Course_Code                                                      \n",
       "AC120                                   International Business   \n",
       "AC137                                             Liberal Arts   \n",
       "AD101        First Year Art and Design (Common Entry portfo...   \n",
       "AD102        Graphic Design and Moving Image Design (portfo...   \n",
       "AD103        Textile and Surface Design and Jewellery and O...   \n",
       "\n",
       "             finalPoints2021  EOS_2020  EOS_2019  \n",
       "Course_Code                                       \n",
       "AC120                  294.0     209.0     234.0  \n",
       "AC137                  270.0     252.0     252.0  \n",
       "AD101                  554.0       NaN       NaN  \n",
       "AD102                  538.0       NaN       NaN  \n",
       "AD103                  505.0       NaN       NaN  "
      ]
     },
     "execution_count": 56,
     "metadata": {},
     "output_type": "execute_result"
    }
   ],
   "source": [
    "allCourses.head()"
   ]
  },
  {
   "cell_type": "markdown",
   "id": "2081d03d-af70-45a2-8592-c538265a8e56",
   "metadata": {},
   "source": [
    "We save this version as a csv to file using the same method as above."
   ]
  },
  {
   "cell_type": "code",
   "execution_count": 57,
   "id": "7c0e15a9-85f3-409b-b600-373f5acd9483",
   "metadata": {},
   "outputs": [],
   "source": [
    "# create a new path to save file to\n",
    "pathAllCourses = 'data/CAOAllYears_' + nowstr + '.csv'\n",
    "\n",
    "# saving amended file to folder\n",
    "allCourses.to_csv(pathAllCourses)"
   ]
  },
  {
   "cell_type": "markdown",
   "id": "d32a8b2b-400c-4ffe-a4be-ec030a8e13b3",
   "metadata": {},
   "source": [
    "<br>\n",
    "\n",
    "---\n",
    "\n",
    "### Some analysis\n",
    "\n",
    "---"
   ]
  },
  {
   "cell_type": "markdown",
   "id": "22d63264-a8b7-489d-a15c-9a98e8e21aab",
   "metadata": {
    "tags": []
   },
   "source": [
    "We do some basic analysis of each year with the `describe()` function."
   ]
  },
  {
   "cell_type": "code",
   "execution_count": 58,
   "id": "8e3a8d31-16c4-4628-a490-0b1a4e5a3ea5",
   "metadata": {
    "tags": []
   },
   "outputs": [
    {
     "data": {
      "text/plain": [
       "count     923.000000\n",
       "mean      404.913326\n",
       "std       128.748376\n",
       "min        57.000000\n",
       "25%       301.500000\n",
       "50%       391.000000\n",
       "75%       497.500000\n",
       "max      1028.000000\n",
       "Name: finalPoints2021, dtype: float64"
      ]
     },
     "execution_count": 58,
     "metadata": {},
     "output_type": "execute_result"
    }
   ],
   "source": [
    "allCourses['finalPoints2021'].describe()"
   ]
  },
  {
   "cell_type": "code",
   "execution_count": 59,
   "id": "0c33b10a-8020-4cf0-b2a6-92d4d385315f",
   "metadata": {},
   "outputs": [
    {
     "data": {
      "text/plain": [
       "count     993.000000\n",
       "mean      391.799597\n",
       "std       128.446837\n",
       "min        55.000000\n",
       "25%       300.000000\n",
       "50%       368.000000\n",
       "75%       474.000000\n",
       "max      1088.000000\n",
       "Name: EOS_2020, dtype: float64"
      ]
     },
     "execution_count": 59,
     "metadata": {},
     "output_type": "execute_result"
    }
   ],
   "source": [
    "allCourses['EOS_2020'].describe()"
   ]
  },
  {
   "cell_type": "code",
   "execution_count": 60,
   "id": "5c1f7f6d-4686-4967-b6a2-543a5138464e",
   "metadata": {},
   "outputs": [
    {
     "data": {
      "text/plain": [
       "count    791.000000\n",
       "mean     351.364096\n",
       "std       88.284545\n",
       "min      168.000000\n",
       "25%      285.500000\n",
       "50%      330.000000\n",
       "75%      410.000000\n",
       "max      601.000000\n",
       "Name: EOS_2019, dtype: float64"
      ]
     },
     "execution_count": 60,
     "metadata": {},
     "output_type": "execute_result"
    }
   ],
   "source": [
    "allCourses['EOS_2019'].describe()"
   ]
  },
  {
   "cell_type": "markdown",
   "id": "f5635633-bc97-4067-ab66-2b655ba51fc3",
   "metadata": {},
   "source": [
    "We visualise that with a barchart."
   ]
  },
  {
   "cell_type": "code",
   "execution_count": 61,
   "id": "4a14522b-36da-4afd-a20a-c869cef9bda6",
   "metadata": {},
   "outputs": [],
   "source": [
    "# create variables for mean points\n",
    "a = allCourses['EOS_2019'].mean()\n",
    "b = allCourses['EOS_2020'].mean()\n",
    "c = allCourses['finalPoints2021'].mean()"
   ]
  },
  {
   "cell_type": "code",
   "execution_count": 62,
   "id": "a0063991-3a3e-4f3d-adcc-aa9ecf066909",
   "metadata": {},
   "outputs": [
    {
     "data": {
      "image/png": "[encoded data removed]",
      "text/plain": [
       "<Figure size 864x720 with 1 Axes>"
      ]
     },
     "metadata": {},
     "output_type": "display_data"
    }
   ],
   "source": [
    "# set figure size and style\n",
    "plt.rcParams[\"figure.figsize\"] = (12,10)\n",
    "plt.style.use('ggplot')\n",
    "\n",
    "# definte data for x and y\n",
    "x = ('2019', '2020', '2021')\n",
    "y = [a, b, c]\n",
    " \n",
    "# titles\n",
    "plt.title(\"\\nMean CAO points - 2019-2021\")\n",
    "plt.xlabel(\"Year\")\n",
    "plt.ylabel(\"Points\")\n",
    "\n",
    "# Create bar chart\n",
    "plt.bar(x, y, edgecolor='slategrey', linewidth=3);"
   ]
  },
  {
   "cell_type": "markdown",
   "id": "74bd6e53-af5f-4751-b859-ff83ae5820c6",
   "metadata": {},
   "source": [
    "I want to find the mean points per institution and by year\n",
    "I want to find the highest and points each year"
   ]
  },
  {
   "cell_type": "code",
   "execution_count": 63,
   "id": "3d234ed0-9d29-4efd-8222-504961ccb9e5",
   "metadata": {},
   "outputs": [],
   "source": [
    "column1 = allCourses['EOS_2019']\n",
    "column2 = allCourses['EOS_2020']\n",
    "column3 = allCourses['finalPoints2021']\n",
    "max_value1 = column1.max()\n",
    "max_value1 = int(max_value1)\n",
    "max_index1 = column1.idxmax()\n",
    "max_value2 = column2.max()\n",
    "max_value2 = int(max_value2)\n",
    "max_index2 = column2.idxmax()\n",
    "max_value3 = column3.max()\n",
    "max_value3 = int(max_value3)\n",
    "max_index3 = column3.idxmax()"
   ]
  },
  {
   "cell_type": "code",
   "execution_count": 64,
   "id": "f659c964-224b-42f1-9042-fd9d02063baf",
   "metadata": {},
   "outputs": [],
   "source": [
    "x = allCourses.loc[column1.idxmax(), 'Course_Title']\n",
    "y = allCourses.loc[column1.idxmax(), 'Course_Title']\n",
    "z = allCourses.loc[column1.idxmax(), 'Course_Title']"
   ]
  },
  {
   "cell_type": "code",
   "execution_count": 65,
   "id": "02b58b81-5ad2-4060-9c7c-0d7474662188",
   "metadata": {},
   "outputs": [
    {
     "name": "stdout",
     "output_type": "stream",
     "text": [
      "The highest points in 2019 was 601 for course DN670 - Economics and Finance\n",
      "The highest points in 2020 was 1088 for course CR125 - Economics and Finance\n",
      "The highest points in 2021 was 1028 for course CR125 - Economics and Finance\n"
     ]
    }
   ],
   "source": [
    "print(f\"The highest points in 2019 was {max_value1} for course {max_index1} - {x}\")\n",
    "print(f\"The highest points in 2020 was {max_value2} for course {max_index2} - {y}\")\n",
    "print(f\"The highest points in 2021 was {max_value3} for course {max_index3} - {z}\")"
   ]
  },
  {
   "cell_type": "code",
   "execution_count": 66,
   "id": "550a2ec5-7b91-4797-86dc-6b8ac4eab64e",
   "metadata": {},
   "outputs": [
    {
     "data": {
      "text/plain": [
       "Course_Code\n",
       "AC120                               International Business\n",
       "AC137                                         Liberal Arts\n",
       "AD101    First Year Art and Design (Common Entry portfo...\n",
       "AD102    Graphic Design and Moving Image Design (portfo...\n",
       "AD103    Textile and Surface Design and Jewellery and O...\n",
       "                               ...                        \n",
       "WD211                                   Creative Computing\n",
       "WD212                      Recreation and Sport Management\n",
       "WD230             Mechanical and Manufacturing Engineering\n",
       "WD231                   Early Childhood Care and Education\n",
       "WD232                         Business Information Systems\n",
       "Name: Course_Title, Length: 1214, dtype: object"
      ]
     },
     "execution_count": 66,
     "metadata": {},
     "output_type": "execute_result"
    }
   ],
   "source": [
    "allCourses['Course_Title']"
   ]
  },
  {
   "cell_type": "markdown",
   "id": "09e85f7e-73c1-4a94-830f-a4aeae9209bc",
   "metadata": {},
   "source": [
    "I'm going to try and insert the institution names. The first 2 letters of the course code references the institution so I'm going to create a new column with a copy of the index. "
   ]
  },
  {
   "cell_type": "code",
   "execution_count": 67,
   "id": "16c9e4e0-81a3-45ac-8010-af551579ff29",
   "metadata": {},
   "outputs": [
    {
     "data": {
      "text/html": [
       "<div>\n",
       "<style scoped>\n",
       "    .dataframe tbody tr th:only-of-type {\n",
       "        vertical-align: middle;\n",
       "    }\n",
       "\n",
       "    .dataframe tbody tr th {\n",
       "        vertical-align: top;\n",
       "    }\n",
       "\n",
       "    .dataframe thead th {\n",
       "        text-align: right;\n",
       "    }\n",
       "</style>\n",
       "<table border=\"1\" class=\"dataframe\">\n",
       "  <thead>\n",
       "    <tr style=\"text-align: right;\">\n",
       "      <th></th>\n",
       "      <th>Course_Title</th>\n",
       "      <th>finalPoints2021</th>\n",
       "      <th>EOS_2020</th>\n",
       "      <th>EOS_2019</th>\n",
       "      <th>index1</th>\n",
       "    </tr>\n",
       "    <tr>\n",
       "      <th>Course_Code</th>\n",
       "      <th></th>\n",
       "      <th></th>\n",
       "      <th></th>\n",
       "      <th></th>\n",
       "      <th></th>\n",
       "    </tr>\n",
       "  </thead>\n",
       "  <tbody>\n",
       "    <tr>\n",
       "      <th>AC120</th>\n",
       "      <td>International Business</td>\n",
       "      <td>294.0</td>\n",
       "      <td>209.0</td>\n",
       "      <td>234.0</td>\n",
       "      <td>AC120</td>\n",
       "    </tr>\n",
       "    <tr>\n",
       "      <th>AC137</th>\n",
       "      <td>Liberal Arts</td>\n",
       "      <td>270.0</td>\n",
       "      <td>252.0</td>\n",
       "      <td>252.0</td>\n",
       "      <td>AC137</td>\n",
       "    </tr>\n",
       "    <tr>\n",
       "      <th>AD101</th>\n",
       "      <td>First Year Art and Design (Common Entry portfo...</td>\n",
       "      <td>554.0</td>\n",
       "      <td>NaN</td>\n",
       "      <td>NaN</td>\n",
       "      <td>AD101</td>\n",
       "    </tr>\n",
       "    <tr>\n",
       "      <th>AD102</th>\n",
       "      <td>Graphic Design and Moving Image Design (portfo...</td>\n",
       "      <td>538.0</td>\n",
       "      <td>NaN</td>\n",
       "      <td>NaN</td>\n",
       "      <td>AD102</td>\n",
       "    </tr>\n",
       "    <tr>\n",
       "      <th>AD103</th>\n",
       "      <td>Textile and Surface Design and Jewellery and O...</td>\n",
       "      <td>505.0</td>\n",
       "      <td>NaN</td>\n",
       "      <td>NaN</td>\n",
       "      <td>AD103</td>\n",
       "    </tr>\n",
       "    <tr>\n",
       "      <th>...</th>\n",
       "      <td>...</td>\n",
       "      <td>...</td>\n",
       "      <td>...</td>\n",
       "      <td>...</td>\n",
       "      <td>...</td>\n",
       "    </tr>\n",
       "    <tr>\n",
       "      <th>WD211</th>\n",
       "      <td>Creative Computing</td>\n",
       "      <td>270.0</td>\n",
       "      <td>271.0</td>\n",
       "      <td>275.0</td>\n",
       "      <td>WD211</td>\n",
       "    </tr>\n",
       "    <tr>\n",
       "      <th>WD212</th>\n",
       "      <td>Recreation and Sport Management</td>\n",
       "      <td>262.0</td>\n",
       "      <td>270.0</td>\n",
       "      <td>274.0</td>\n",
       "      <td>WD212</td>\n",
       "    </tr>\n",
       "    <tr>\n",
       "      <th>WD230</th>\n",
       "      <td>Mechanical and Manufacturing Engineering</td>\n",
       "      <td>230.0</td>\n",
       "      <td>253.0</td>\n",
       "      <td>273.0</td>\n",
       "      <td>WD230</td>\n",
       "    </tr>\n",
       "    <tr>\n",
       "      <th>WD231</th>\n",
       "      <td>Early Childhood Care and Education</td>\n",
       "      <td>266.0</td>\n",
       "      <td>NaN</td>\n",
       "      <td>NaN</td>\n",
       "      <td>WD231</td>\n",
       "    </tr>\n",
       "    <tr>\n",
       "      <th>WD232</th>\n",
       "      <td>Business Information Systems</td>\n",
       "      <td>261.0</td>\n",
       "      <td>NaN</td>\n",
       "      <td>NaN</td>\n",
       "      <td>WD232</td>\n",
       "    </tr>\n",
       "  </tbody>\n",
       "</table>\n",
       "<p>1214 rows × 5 columns</p>\n",
       "</div>"
      ],
      "text/plain": [
       "                                                  Course_Title  \\\n",
       "Course_Code                                                      \n",
       "AC120                                   International Business   \n",
       "AC137                                             Liberal Arts   \n",
       "AD101        First Year Art and Design (Common Entry portfo...   \n",
       "AD102        Graphic Design and Moving Image Design (portfo...   \n",
       "AD103        Textile and Surface Design and Jewellery and O...   \n",
       "...                                                        ...   \n",
       "WD211                                       Creative Computing   \n",
       "WD212                          Recreation and Sport Management   \n",
       "WD230                 Mechanical and Manufacturing Engineering   \n",
       "WD231                       Early Childhood Care and Education   \n",
       "WD232                             Business Information Systems   \n",
       "\n",
       "             finalPoints2021  EOS_2020  EOS_2019 index1  \n",
       "Course_Code                                              \n",
       "AC120                  294.0     209.0     234.0  AC120  \n",
       "AC137                  270.0     252.0     252.0  AC137  \n",
       "AD101                  554.0       NaN       NaN  AD101  \n",
       "AD102                  538.0       NaN       NaN  AD102  \n",
       "AD103                  505.0       NaN       NaN  AD103  \n",
       "...                      ...       ...       ...    ...  \n",
       "WD211                  270.0     271.0     275.0  WD211  \n",
       "WD212                  262.0     270.0     274.0  WD212  \n",
       "WD230                  230.0     253.0     273.0  WD230  \n",
       "WD231                  266.0       NaN       NaN  WD231  \n",
       "WD232                  261.0       NaN       NaN  WD232  \n",
       "\n",
       "[1214 rows x 5 columns]"
      ]
     },
     "execution_count": 67,
     "metadata": {},
     "output_type": "execute_result"
    }
   ],
   "source": [
    "allCourses['index1'] = allCourses.index\n",
    "allCourses"
   ]
  },
  {
   "cell_type": "markdown",
   "id": "a356f433-1d81-42b6-8b0b-e341ea0d84e3",
   "metadata": {},
   "source": [
    "Now I'm going to try and isolate the first 2 letters of each code."
   ]
  },
  {
   "cell_type": "code",
   "execution_count": 68,
   "id": "8a5f3843-b6f6-4b7c-9126-ae060ebe5939",
   "metadata": {},
   "outputs": [
    {
     "data": {
      "text/html": [
       "<div>\n",
       "<style scoped>\n",
       "    .dataframe tbody tr th:only-of-type {\n",
       "        vertical-align: middle;\n",
       "    }\n",
       "\n",
       "    .dataframe tbody tr th {\n",
       "        vertical-align: top;\n",
       "    }\n",
       "\n",
       "    .dataframe thead th {\n",
       "        text-align: right;\n",
       "    }\n",
       "</style>\n",
       "<table border=\"1\" class=\"dataframe\">\n",
       "  <thead>\n",
       "    <tr style=\"text-align: right;\">\n",
       "      <th></th>\n",
       "      <th>Course_Title</th>\n",
       "      <th>finalPoints2021</th>\n",
       "      <th>EOS_2020</th>\n",
       "      <th>EOS_2019</th>\n",
       "      <th>index1</th>\n",
       "    </tr>\n",
       "    <tr>\n",
       "      <th>Course_Code</th>\n",
       "      <th></th>\n",
       "      <th></th>\n",
       "      <th></th>\n",
       "      <th></th>\n",
       "      <th></th>\n",
       "    </tr>\n",
       "  </thead>\n",
       "  <tbody>\n",
       "    <tr>\n",
       "      <th>AC120</th>\n",
       "      <td>International Business</td>\n",
       "      <td>294.0</td>\n",
       "      <td>209.0</td>\n",
       "      <td>234.0</td>\n",
       "      <td>AC</td>\n",
       "    </tr>\n",
       "    <tr>\n",
       "      <th>AC137</th>\n",
       "      <td>Liberal Arts</td>\n",
       "      <td>270.0</td>\n",
       "      <td>252.0</td>\n",
       "      <td>252.0</td>\n",
       "      <td>AC</td>\n",
       "    </tr>\n",
       "    <tr>\n",
       "      <th>AD101</th>\n",
       "      <td>First Year Art and Design (Common Entry portfo...</td>\n",
       "      <td>554.0</td>\n",
       "      <td>NaN</td>\n",
       "      <td>NaN</td>\n",
       "      <td>AD</td>\n",
       "    </tr>\n",
       "    <tr>\n",
       "      <th>AD102</th>\n",
       "      <td>Graphic Design and Moving Image Design (portfo...</td>\n",
       "      <td>538.0</td>\n",
       "      <td>NaN</td>\n",
       "      <td>NaN</td>\n",
       "      <td>AD</td>\n",
       "    </tr>\n",
       "    <tr>\n",
       "      <th>AD103</th>\n",
       "      <td>Textile and Surface Design and Jewellery and O...</td>\n",
       "      <td>505.0</td>\n",
       "      <td>NaN</td>\n",
       "      <td>NaN</td>\n",
       "      <td>AD</td>\n",
       "    </tr>\n",
       "  </tbody>\n",
       "</table>\n",
       "</div>"
      ],
      "text/plain": [
       "                                                  Course_Title  \\\n",
       "Course_Code                                                      \n",
       "AC120                                   International Business   \n",
       "AC137                                             Liberal Arts   \n",
       "AD101        First Year Art and Design (Common Entry portfo...   \n",
       "AD102        Graphic Design and Moving Image Design (portfo...   \n",
       "AD103        Textile and Surface Design and Jewellery and O...   \n",
       "\n",
       "             finalPoints2021  EOS_2020  EOS_2019 index1  \n",
       "Course_Code                                              \n",
       "AC120                  294.0     209.0     234.0     AC  \n",
       "AC137                  270.0     252.0     252.0     AC  \n",
       "AD101                  554.0       NaN       NaN     AD  \n",
       "AD102                  538.0       NaN       NaN     AD  \n",
       "AD103                  505.0       NaN       NaN     AD  "
      ]
     },
     "execution_count": 68,
     "metadata": {},
     "output_type": "execute_result"
    }
   ],
   "source": [
    "allCourses['index1'] = allCourses['index1'].str[:2]\n",
    "allCourses.head()"
   ]
  },
  {
   "cell_type": "markdown",
   "id": "380f1d91-474b-4080-b88f-bf26517e295b",
   "metadata": {},
   "source": [
    "OK I have to create a big list of institutions now I guess!"
   ]
  },
  {
   "cell_type": "code",
   "execution_count": 69,
   "id": "12bf0d24-c572-49da-be79-bfee97b1f6f2",
   "metadata": {},
   "outputs": [
    {
     "data": {
      "text/html": [
       "<div>\n",
       "<style scoped>\n",
       "    .dataframe tbody tr th:only-of-type {\n",
       "        vertical-align: middle;\n",
       "    }\n",
       "\n",
       "    .dataframe tbody tr th {\n",
       "        vertical-align: top;\n",
       "    }\n",
       "\n",
       "    .dataframe thead th {\n",
       "        text-align: right;\n",
       "    }\n",
       "</style>\n",
       "<table border=\"1\" class=\"dataframe\">\n",
       "  <thead>\n",
       "    <tr style=\"text-align: right;\">\n",
       "      <th></th>\n",
       "      <th>Course_Title</th>\n",
       "      <th>finalPoints2021</th>\n",
       "      <th>EOS_2020</th>\n",
       "      <th>EOS_2019</th>\n",
       "      <th>index1</th>\n",
       "      <th>Institution</th>\n",
       "    </tr>\n",
       "    <tr>\n",
       "      <th>Course_Code</th>\n",
       "      <th></th>\n",
       "      <th></th>\n",
       "      <th></th>\n",
       "      <th></th>\n",
       "      <th></th>\n",
       "      <th></th>\n",
       "    </tr>\n",
       "  </thead>\n",
       "  <tbody>\n",
       "    <tr>\n",
       "      <th>AC120</th>\n",
       "      <td>International Business</td>\n",
       "      <td>294.0</td>\n",
       "      <td>209.0</td>\n",
       "      <td>234.0</td>\n",
       "      <td>AC</td>\n",
       "      <td>American College Dublin</td>\n",
       "    </tr>\n",
       "    <tr>\n",
       "      <th>AC137</th>\n",
       "      <td>Liberal Arts</td>\n",
       "      <td>270.0</td>\n",
       "      <td>252.0</td>\n",
       "      <td>252.0</td>\n",
       "      <td>AC</td>\n",
       "      <td>American College Dublin</td>\n",
       "    </tr>\n",
       "    <tr>\n",
       "      <th>AD101</th>\n",
       "      <td>First Year Art and Design (Common Entry portfo...</td>\n",
       "      <td>554.0</td>\n",
       "      <td>NaN</td>\n",
       "      <td>NaN</td>\n",
       "      <td>AD</td>\n",
       "      <td>National College of Art and Design</td>\n",
       "    </tr>\n",
       "    <tr>\n",
       "      <th>AD102</th>\n",
       "      <td>Graphic Design and Moving Image Design (portfo...</td>\n",
       "      <td>538.0</td>\n",
       "      <td>NaN</td>\n",
       "      <td>NaN</td>\n",
       "      <td>AD</td>\n",
       "      <td>National College of Art and Design</td>\n",
       "    </tr>\n",
       "    <tr>\n",
       "      <th>AD103</th>\n",
       "      <td>Textile and Surface Design and Jewellery and O...</td>\n",
       "      <td>505.0</td>\n",
       "      <td>NaN</td>\n",
       "      <td>NaN</td>\n",
       "      <td>AD</td>\n",
       "      <td>National College of Art and Design</td>\n",
       "    </tr>\n",
       "  </tbody>\n",
       "</table>\n",
       "</div>"
      ],
      "text/plain": [
       "                                                  Course_Title  \\\n",
       "Course_Code                                                      \n",
       "AC120                                   International Business   \n",
       "AC137                                             Liberal Arts   \n",
       "AD101        First Year Art and Design (Common Entry portfo...   \n",
       "AD102        Graphic Design and Moving Image Design (portfo...   \n",
       "AD103        Textile and Surface Design and Jewellery and O...   \n",
       "\n",
       "             finalPoints2021  EOS_2020  EOS_2019 index1  \\\n",
       "Course_Code                                               \n",
       "AC120                  294.0     209.0     234.0     AC   \n",
       "AC137                  270.0     252.0     252.0     AC   \n",
       "AD101                  554.0       NaN       NaN     AD   \n",
       "AD102                  538.0       NaN       NaN     AD   \n",
       "AD103                  505.0       NaN       NaN     AD   \n",
       "\n",
       "                                    Institution  \n",
       "Course_Code                                      \n",
       "AC120                   American College Dublin  \n",
       "AC137                   American College Dublin  \n",
       "AD101        National College of Art and Design  \n",
       "AD102        National College of Art and Design  \n",
       "AD103        National College of Art and Design  "
      ]
     },
     "execution_count": 69,
     "metadata": {},
     "output_type": "execute_result"
    }
   ],
   "source": [
    "# creats a new column based on 2 letters of course code\n",
    "allCourses.loc[allCourses['index1'] == 'AL', 'Institution'] = \"Athlone Institute of Technology\" \n",
    "allCourses.loc[allCourses['index1'] == 'AC', 'Institution'] = \"American College Dublin\" \n",
    "allCourses.loc[allCourses['index1'] == 'CW', 'Institution'] = \"Institute of Technology Carlow\" \n",
    "allCourses.loc[allCourses['index1'] == 'PC', 'Institution'] = \"Carlow College, St. Patrick`s\" \n",
    "allCourses.loc[allCourses['index1'] == 'CR', 'Institution'] = \"Cork Institute of Technology\" \n",
    "allCourses.loc[allCourses['index1'] == 'BY', 'Institution'] = \"IBAT College Dublin\" \n",
    "allCourses.loc[allCourses['index1'] == 'CM', 'Institution'] = \"Marino Institute of Education\" \n",
    "allCourses.loc[allCourses['index1'] == 'CT', 'Institution'] = \"CCT College Dublin\" \n",
    "allCourses.loc[allCourses['index1'] == 'DB', 'Institution'] = \"Dublin Business School\"\n",
    "allCourses.loc[allCourses['index1'] == 'DC', 'Institution'] = \"Dublin City University\" \n",
    "allCourses.loc[allCourses['index1'] == 'DK', 'Institution'] = \"Dundalk Institute of Technology\" \n",
    "allCourses.loc[allCourses['index1'] == 'DL', 'Institution'] = \"Dun Laoghaire Institute of Art, Design & Technology\" \n",
    "allCourses.loc[allCourses['index1'] == 'GA', 'Institution'] = \"Galway-Mayo Institute of Technology\" \n",
    "allCourses.loc[allCourses['index1'] == 'GC', 'Institution'] = \"Griffith College Dublin, Cork & Limerick\" \n",
    "allCourses.loc[allCourses['index1'] == 'ID', 'Institution'] = \"ICD Business School, Dublin\" \n",
    "allCourses.loc[allCourses['index1'] == 'SG', 'Institution'] = \"Institute of Technology Sligo\" \n",
    "allCourses.loc[allCourses['index1'] == 'TU', 'Institution'] = \"TU Dublin\"\n",
    "allCourses.loc[allCourses['index1'] == 'TL', 'Institution'] = \"Institute of Technology Tralee\" \n",
    "allCourses.loc[allCourses['index1'] == 'CI', 'Institution'] = \"Irish College of Humanities & Applied Sciences\" \n",
    "allCourses.loc[allCourses['index1'] == 'LY', 'Institution'] = \"Letterkenny Institute of Technology\" \n",
    "allCourses.loc[allCourses['index1'] == 'LC', 'Institution'] = \"Limerick Institute of Technology\" \n",
    "allCourses.loc[allCourses['index1'] == 'MI', 'Institution'] = \"Mary Immaculate College of Education\" \n",
    "allCourses.loc[allCourses['index1'] == 'AD', 'Institution'] = \"National College of Art and Design\" \n",
    "allCourses.loc[allCourses['index1'] == 'NC', 'Institution'] = \"National College of Ireland(NCI)\" \n",
    "allCourses.loc[allCourses['index1'] == 'GY', 'Institution'] = \"National University Of Ireland, Galway\" \n",
    "allCourses.loc[allCourses['index1'] == 'MH', 'Institution'] = \"Maynooth University\" \n",
    "allCourses.loc[allCourses['index1'] == 'MU', 'Institution'] = \"Pontifical University, Maynooth\" \n",
    "allCourses.loc[allCourses['index1'] == 'RC', 'Institution'] = \"RCSI University of Medicine & Health Sciences\" \n",
    "allCourses.loc[allCourses['index1'] == 'AS', 'Institution'] = \"St. Angela`s College\" \n",
    "allCourses.loc[allCourses['index1'] == 'TR', 'Institution'] = \"Trinity College Dublin\" \n",
    "allCourses.loc[allCourses['index1'] == 'CK', 'Institution'] = \"University College Cork(NUI)\" \n",
    "allCourses.loc[allCourses['index1'] == 'DN', 'Institution'] = \"University College Dublin(NUI)\" \n",
    "allCourses.loc[allCourses['index1'] == 'LM', 'Institution'] = \"University of Limerick\" \n",
    "allCourses.loc[allCourses['index1'] == 'WD', 'Institution'] = \"Waterford Institute of Technology\"\n",
    "allCourses.loc[allCourses['index1'] == 'BN', 'Institution'] = \"Technological University Dublin Blanchardstown Campus\"\n",
    "allCourses.loc[allCourses['index1'] == 'DT', 'Institution'] = \"Technological University Dublin City Campus\"\n",
    "allCourses.loc[allCourses['index1'] == 'DS', 'Institution'] = \"Dorset College\"\n",
    "allCourses.loc[allCourses['index1'] == 'GB', 'Institution'] = \"Galway Business School\"\n",
    "allCourses.loc[allCourses['index1'] == 'NM', 'Institution'] = \"St Nicholas Montessori College Ireland\"\n",
    "allCourses.loc[allCourses['index1'] == 'TA', 'Institution'] = \"Technological University Dublin Tallaght Campus\"\n",
    "\n",
    "# have a look\n",
    "allCourses.head()"
   ]
  },
  {
   "cell_type": "markdown",
   "id": "50a66079-0793-45e3-a576-60531ec92b14",
   "metadata": {},
   "source": [
    "I'm going to delete index1 now, and save the result as a new csv file."
   ]
  },
  {
   "cell_type": "code",
   "execution_count": 70,
   "id": "1ec7db6f-8ed4-4b6e-9070-e4f9e9f27d0b",
   "metadata": {},
   "outputs": [
    {
     "data": {
      "text/html": [
       "<div>\n",
       "<style scoped>\n",
       "    .dataframe tbody tr th:only-of-type {\n",
       "        vertical-align: middle;\n",
       "    }\n",
       "\n",
       "    .dataframe tbody tr th {\n",
       "        vertical-align: top;\n",
       "    }\n",
       "\n",
       "    .dataframe thead th {\n",
       "        text-align: right;\n",
       "    }\n",
       "</style>\n",
       "<table border=\"1\" class=\"dataframe\">\n",
       "  <thead>\n",
       "    <tr style=\"text-align: right;\">\n",
       "      <th></th>\n",
       "      <th>Course_Title</th>\n",
       "      <th>finalPoints2021</th>\n",
       "      <th>EOS_2020</th>\n",
       "      <th>EOS_2019</th>\n",
       "      <th>Institution</th>\n",
       "    </tr>\n",
       "    <tr>\n",
       "      <th>Course_Code</th>\n",
       "      <th></th>\n",
       "      <th></th>\n",
       "      <th></th>\n",
       "      <th></th>\n",
       "      <th></th>\n",
       "    </tr>\n",
       "  </thead>\n",
       "  <tbody>\n",
       "    <tr>\n",
       "      <th>AC120</th>\n",
       "      <td>International Business</td>\n",
       "      <td>294.0</td>\n",
       "      <td>209.0</td>\n",
       "      <td>234.0</td>\n",
       "      <td>American College Dublin</td>\n",
       "    </tr>\n",
       "    <tr>\n",
       "      <th>AC137</th>\n",
       "      <td>Liberal Arts</td>\n",
       "      <td>270.0</td>\n",
       "      <td>252.0</td>\n",
       "      <td>252.0</td>\n",
       "      <td>American College Dublin</td>\n",
       "    </tr>\n",
       "    <tr>\n",
       "      <th>AD101</th>\n",
       "      <td>First Year Art and Design (Common Entry portfo...</td>\n",
       "      <td>554.0</td>\n",
       "      <td>NaN</td>\n",
       "      <td>NaN</td>\n",
       "      <td>National College of Art and Design</td>\n",
       "    </tr>\n",
       "    <tr>\n",
       "      <th>AD102</th>\n",
       "      <td>Graphic Design and Moving Image Design (portfo...</td>\n",
       "      <td>538.0</td>\n",
       "      <td>NaN</td>\n",
       "      <td>NaN</td>\n",
       "      <td>National College of Art and Design</td>\n",
       "    </tr>\n",
       "    <tr>\n",
       "      <th>AD103</th>\n",
       "      <td>Textile and Surface Design and Jewellery and O...</td>\n",
       "      <td>505.0</td>\n",
       "      <td>NaN</td>\n",
       "      <td>NaN</td>\n",
       "      <td>National College of Art and Design</td>\n",
       "    </tr>\n",
       "  </tbody>\n",
       "</table>\n",
       "</div>"
      ],
      "text/plain": [
       "                                                  Course_Title  \\\n",
       "Course_Code                                                      \n",
       "AC120                                   International Business   \n",
       "AC137                                             Liberal Arts   \n",
       "AD101        First Year Art and Design (Common Entry portfo...   \n",
       "AD102        Graphic Design and Moving Image Design (portfo...   \n",
       "AD103        Textile and Surface Design and Jewellery and O...   \n",
       "\n",
       "             finalPoints2021  EOS_2020  EOS_2019  \\\n",
       "Course_Code                                        \n",
       "AC120                  294.0     209.0     234.0   \n",
       "AC137                  270.0     252.0     252.0   \n",
       "AD101                  554.0       NaN       NaN   \n",
       "AD102                  538.0       NaN       NaN   \n",
       "AD103                  505.0       NaN       NaN   \n",
       "\n",
       "                                    Institution  \n",
       "Course_Code                                      \n",
       "AC120                   American College Dublin  \n",
       "AC137                   American College Dublin  \n",
       "AD101        National College of Art and Design  \n",
       "AD102        National College of Art and Design  \n",
       "AD103        National College of Art and Design  "
      ]
     },
     "execution_count": 70,
     "metadata": {},
     "output_type": "execute_result"
    }
   ],
   "source": [
    "allCourses.drop('index1', axis=1, inplace=True)\n",
    "allCourses.head()"
   ]
  },
  {
   "cell_type": "code",
   "execution_count": 71,
   "id": "d73a9b6d-048a-4b8a-8478-c938b47ea568",
   "metadata": {},
   "outputs": [],
   "source": [
    "# create a new path to save file to\n",
    "pathAllCoursesNew = 'data/CAOAllYearsB_' + nowstr + '.csv'\n",
    "\n",
    "# saving amended file to folder\n",
    "allCourses.to_csv(pathAllCoursesNew)"
   ]
  },
  {
   "cell_type": "markdown",
   "id": "f7cc0fbc-0250-4ae0-b41f-13ec70748c89",
   "metadata": {},
   "source": [
    "A quick glance through the new csv file shows that there are large gaps in the data. There are lots of courses that seem to have only have points for a single year. One reason for this I think is that some of the institution names have changed - e.g. TU Dublin seems to be an amalgamation of three other ITs (https://en.wikipedia.org/wiki/Technological_University_Dublin). Also, course names may have changed, orjust been discontinued. So, with all these gaps and inconsistencies, any analysis will be quite suspect! In the real world, a lot more research and data cleaning would be necessary but for the purposes of this project we'll carry on.  "
   ]
  },
  {
   "cell_type": "code",
   "execution_count": 72,
   "id": "1c2101fe-a12a-4024-ab87-28670d2cffd5",
   "metadata": {},
   "outputs": [
    {
     "name": "stdout",
     "output_type": "stream",
     "text": [
      "There were a total of 791 courses offered in 2019\n",
      "There were a total of 993 courses offered in 2020\n",
      "There were a total of 923 courses offered in 2021\n"
     ]
    }
   ],
   "source": [
    "a = allCourses['EOS_2019'].count()\n",
    "b = allCourses['EOS_2020'].count()\n",
    "c = allCourses['finalPoints2021'].count()\n",
    "\n",
    "print(f\"There were a total of {a} courses offered in 2019\")\n",
    "print(f\"There were a total of {b} courses offered in 2020\")\n",
    "print(f\"There were a total of {c} courses offered in 2021\")"
   ]
  },
  {
   "cell_type": "markdown",
   "id": "546a71c2-e761-4eec-a08b-fb309e217d6e",
   "metadata": {},
   "source": [
    "Seems strange that there's such a range between each of the years! That certainly would warrant further exploration!\n",
    "\n",
    "Next we're going to look at how many courses each institute ran. We use the `value_counts()` method to find how many entries per institution. The result will return the most courses the institution ran in any of the 3 years."
   ]
  },
  {
   "cell_type": "code",
   "execution_count": 73,
   "id": "b48bd240-e136-4648-970a-f5deaa9a411c",
   "metadata": {},
   "outputs": [
    {
     "data": {
      "text/plain": [
       "Trinity College Dublin                                   128\n",
       "TU Dublin                                                120\n",
       "Dublin City University                                    74\n",
       "National University Of Ireland, Galway                    73\n",
       "Technological University Dublin City Campus               69\n",
       "University College Cork(NUI)                              67\n",
       "Limerick Institute of Technology                          54\n",
       "Galway-Mayo Institute of Technology                       53\n",
       "Cork Institute of Technology                              47\n",
       "University of Limerick                                    46\n",
       "Institute of Technology Sligo                             43\n",
       "University College Dublin(NUI)                            42\n",
       "Waterford Institute of Technology                         39\n",
       "Maynooth University                                       37\n",
       "Institute of Technology Carlow                            35\n",
       "Athlone Institute of Technology                           32\n",
       "Dundalk Institute of Technology                           31\n",
       "Institute of Technology Tralee                            26\n",
       "Technological University Dublin Tallaght Campus           24\n",
       "Dublin Business School                                    23\n",
       "Dun Laoghaire Institute of Art, Design & Technology       23\n",
       "Letterkenny Institute of Technology                       22\n",
       "Griffith College Dublin, Cork & Limerick                  20\n",
       "Technological University Dublin Blanchardstown Campus     18\n",
       "Mary Immaculate College of Education                      13\n",
       "National College of Art and Design                        10\n",
       "National College of Ireland(NCI)                           9\n",
       "St. Angela`s College                                       7\n",
       "Marino Institute of Education                              6\n",
       "RCSI University of Medicine & Health Sciences              4\n",
       "Irish College of Humanities & Applied Sciences             4\n",
       "ICD Business School, Dublin                                3\n",
       "Carlow College, St. Patrick`s                              3\n",
       "CCT College Dublin                                         2\n",
       "Pontifical University, Maynooth                            2\n",
       "St Nicholas Montessori College Ireland                     2\n",
       "American College Dublin                                    2\n",
       "IBAT College Dublin                                        1\n",
       "Name: Institution, dtype: int64"
      ]
     },
     "execution_count": 73,
     "metadata": {},
     "output_type": "execute_result"
    }
   ],
   "source": [
    "# value counts per institution\n",
    "allCourses['Institution'].value_counts()"
   ]
  },
  {
   "cell_type": "markdown",
   "id": "68463f00-cd70-4bf2-a7fc-014653bde1c1",
   "metadata": {},
   "source": [
    "We can plot that to get a better idea."
   ]
  },
  {
   "cell_type": "code",
   "execution_count": 74,
   "id": "be8cbb72-c532-493a-9ee7-aa6debc0add5",
   "metadata": {},
   "outputs": [
    {
     "data": {
      "image/png": "[encoded data removed]",
      "text/plain": [
       "<Figure size 864x720 with 1 Axes>"
      ]
     },
     "metadata": {},
     "output_type": "display_data"
    }
   ],
   "source": [
    "# set title\n",
    "plt.title(\"Number of courses per institution\")\n",
    "\n",
    "# set x,y labels\n",
    "plt.xlabel(\"Number of courses\")\n",
    "\n",
    "# plot value counts of courses\n",
    "allCourses['Institution'].value_counts().sort_values().plot(kind='barh');"
   ]
  },
  {
   "cell_type": "markdown",
   "id": "088d07e7-84a7-4bfc-a91b-de715ddf35ca",
   "metadata": {},
   "source": [
    "This gives us a good idea of the relative sizes of each of the institutions. We could do a separate one per year but I'm not sure much more we'd learn.  \n",
    "\n",
    "We'll take a look at a few of the institutions in isolation. We'll look at Trinity first as it seems to be the biggest."
   ]
  },
  {
   "cell_type": "code",
   "execution_count": 75,
   "id": "11f46cb0-4d9e-4c4f-9b36-8116be0eaaf1",
   "metadata": {},
   "outputs": [
    {
     "data": {
      "text/html": [
       "<div>\n",
       "<style scoped>\n",
       "    .dataframe tbody tr th:only-of-type {\n",
       "        vertical-align: middle;\n",
       "    }\n",
       "\n",
       "    .dataframe tbody tr th {\n",
       "        vertical-align: top;\n",
       "    }\n",
       "\n",
       "    .dataframe thead th {\n",
       "        text-align: right;\n",
       "    }\n",
       "</style>\n",
       "<table border=\"1\" class=\"dataframe\">\n",
       "  <thead>\n",
       "    <tr style=\"text-align: right;\">\n",
       "      <th></th>\n",
       "      <th>finalPoints2021</th>\n",
       "      <th>EOS_2020</th>\n",
       "      <th>EOS_2019</th>\n",
       "    </tr>\n",
       "  </thead>\n",
       "  <tbody>\n",
       "    <tr>\n",
       "      <th>count</th>\n",
       "      <td>54.000000</td>\n",
       "      <td>125.000000</td>\n",
       "      <td>36.000000</td>\n",
       "    </tr>\n",
       "    <tr>\n",
       "      <th>mean</th>\n",
       "      <td>532.851852</td>\n",
       "      <td>474.736000</td>\n",
       "      <td>468.888889</td>\n",
       "    </tr>\n",
       "    <tr>\n",
       "      <th>std</th>\n",
       "      <td>70.933508</td>\n",
       "      <td>84.598115</td>\n",
       "      <td>75.208198</td>\n",
       "    </tr>\n",
       "    <tr>\n",
       "      <th>min</th>\n",
       "      <td>377.000000</td>\n",
       "      <td>329.000000</td>\n",
       "      <td>337.000000</td>\n",
       "    </tr>\n",
       "    <tr>\n",
       "      <th>25%</th>\n",
       "      <td>486.250000</td>\n",
       "      <td>398.000000</td>\n",
       "      <td>415.500000</td>\n",
       "    </tr>\n",
       "    <tr>\n",
       "      <th>50%</th>\n",
       "      <td>546.000000</td>\n",
       "      <td>498.000000</td>\n",
       "      <td>485.500000</td>\n",
       "    </tr>\n",
       "    <tr>\n",
       "      <th>75%</th>\n",
       "      <td>577.750000</td>\n",
       "      <td>531.000000</td>\n",
       "      <td>520.750000</td>\n",
       "    </tr>\n",
       "    <tr>\n",
       "      <th>max</th>\n",
       "      <td>743.000000</td>\n",
       "      <td>734.000000</td>\n",
       "      <td>576.000000</td>\n",
       "    </tr>\n",
       "  </tbody>\n",
       "</table>\n",
       "</div>"
      ],
      "text/plain": [
       "       finalPoints2021    EOS_2020    EOS_2019\n",
       "count        54.000000  125.000000   36.000000\n",
       "mean        532.851852  474.736000  468.888889\n",
       "std          70.933508   84.598115   75.208198\n",
       "min         377.000000  329.000000  337.000000\n",
       "25%         486.250000  398.000000  415.500000\n",
       "50%         546.000000  498.000000  485.500000\n",
       "75%         577.750000  531.000000  520.750000\n",
       "max         743.000000  734.000000  576.000000"
      ]
     },
     "execution_count": 75,
     "metadata": {},
     "output_type": "execute_result"
    }
   ],
   "source": [
    "trinity = allCourses.loc[allCourses['Institution'] == 'Trinity College Dublin']\n",
    "trinity.describe()"
   ]
  },
  {
   "cell_type": "markdown",
   "id": "7d4b3aba-5be6-485f-a998-220bbf2563e2",
   "metadata": {},
   "source": [
    "First issue seems to be the count - we have a huge discrepancy between the number of courses offered each year! Something wrong there! Also there seems to be a big increase in the max points value in 2020 and 2021? Anyway we're going to focus on the average points and compare it to the other bigger institutions. So to finish I'm going to plot the average points score for the biggest 10 institutions over the last 3 years."
   ]
  },
  {
   "cell_type": "code",
   "execution_count": 76,
   "id": "46b53f58-e828-40a4-af5b-1bc27b33b596",
   "metadata": {},
   "outputs": [],
   "source": [
    "TU = allCourses.loc[allCourses['Institution'] == 'TU Dublin']\n",
    "DCU = allCourses.loc[allCourses['Institution'] == 'Dublin City University']\n",
    "NUIG = allCourses.loc[allCourses['Institution'] == 'National University Of Ireland, Galway']\n",
    "TUD = allCourses.loc[allCourses['Institution'] == 'Technological University Dublin City Campus']\n",
    "UCC = allCourses.loc[allCourses['Institution'] == 'University College Cork(NUI)']\n",
    "LIT = allCourses.loc[allCourses['Institution'] == 'Limerick Institute of Technology']\n",
    "GMIT = allCourses.loc[allCourses['Institution'] == 'Galway-Mayo Institute of Technology']\n",
    "CIT = allCourses.loc[allCourses['Institution'] == 'Cork Institute of Technology']\n",
    "UL = allCourses.loc[allCourses['Institution'] == 'University of Limerick']\n",
    "ITS = allCourses.loc[allCourses['Institution'] == 'Institute of Technology Sligo']"
   ]
  },
  {
   "cell_type": "code",
   "execution_count": 77,
   "id": "45143d93-d056-45f4-99bb-ed58459638eb",
   "metadata": {},
   "outputs": [
    {
     "data": {
      "image/png": "[encoded data removed]",
      "text/plain": [
       "<Figure size 864x720 with 1 Axes>"
      ]
     },
     "metadata": {},
     "output_type": "display_data"
    }
   ],
   "source": [
    "# add text to line\n",
    "plt.text(0, 473,'Trinity', color='indianred')\n",
    "# plot mean points for each year\n",
    "trinity[['EOS_2019', 'EOS_2020', 'finalPoints2021']].mean().plot()\n",
    "\n",
    "plt.text(1, 355,'TU Dublin', color='steelblue')\n",
    "TU[['EOS_2019', 'EOS_2020', 'finalPoints2021']].mean().plot()\n",
    "\n",
    "plt.text(0, 430,'DCU', color='mediumpurple')\n",
    "DCU[['EOS_2019', 'EOS_2020', 'finalPoints2021']].mean().plot()\n",
    "\n",
    "plt.text(2, 490,'NUIG', color='grey')\n",
    "NUIG[['EOS_2019', 'EOS_2020', 'finalPoints2021']].mean().plot()\n",
    "\n",
    "plt.text(0, 445,'UCC', color='goldenrod')\n",
    "UCC[['EOS_2019', 'EOS_2020', 'finalPoints2021']].mean().plot()\n",
    "\n",
    "plt.text(0, 280,'LIT', color='olivedrab')\n",
    "LIT[['EOS_2019', 'EOS_2020', 'finalPoints2021']].mean().plot()\n",
    "\n",
    "plt.text(0, 300,'GMIT', color='hotpink')\n",
    "GMIT[['EOS_2019', 'EOS_2020', 'finalPoints2021']].mean().plot()\n",
    "\n",
    "plt.text(0, 350,'CIT', color='darkred')\n",
    "CIT[['EOS_2019', 'EOS_2020', 'finalPoints2021']].mean().plot()\n",
    "\n",
    "plt.text(0, 415,'UL', color='steelblue')\n",
    "UL[['EOS_2019', 'EOS_2020', 'finalPoints2021']].mean().plot()\n",
    "\n",
    "plt.text(1, 325,'ITS', color='mediumpurple')\n",
    "ITS[['EOS_2019', 'EOS_2020', 'finalPoints2021']].mean().plot()\n",
    "\n",
    "# add legend\n",
    "plt.legend([\"Trinity College Dublin\", \"TU Dublin\", \"Dublin City University\", \"NUI Galway\", \n",
    "          \"University College Cork\", \"Limerick Institute of Technology\", \"Galway-Mayo Institute of Technology\", \"Cork Institute of Technology\",\n",
    "          \"University of Limerick\", \"Institute of Technology Sligo\"], loc='center left', bbox_to_anchor=(1, 0.5))\n",
    "\n",
    "# add title\n",
    "plt.title(\"\\n10 largest 3rd level institutions - CAO points from 2019-2021\")\n",
    "\n",
    "# add y label\n",
    "plt.ylabel(\"Points\");"
   ]
  },
  {
   "cell_type": "markdown",
   "id": "61642112-0743-4815-9a5a-a6ee382308c4",
   "metadata": {},
   "source": [
    "So we can see that Trinity is the top university each year. UCC has been pipped by NUIG in 2021! GMIT and Sligo IT are fighting it out for 9th and 10th place. All institutions points rose each year except CIT which took a big dip in 2021."
   ]
  },
  {
   "cell_type": "markdown",
   "id": "41b759a3-0ab2-4e24-92c7-e00f8f40da14",
   "metadata": {},
   "source": [
    "<br>\n",
    "\n",
    "---\n",
    "\n",
    "**N.B. The CAO website updated the 2021 points during the completion of this project and released an excel spreadsheet which can be found at this address - http://www2.cao.ie/points/CAOPointsCharts2021.xlsx. The format of this spreadsheet is similar to the 2020 version so would have aided this project considerably! In trying to work with the original text file though I feel we learnt more useful techniques. So while the newer version may produce slightly more accurate results than what I arrived at, I decided to keep the older version to demonstrate this learning.**"
   ]
  },
  {
   "cell_type": "markdown",
   "id": "ce62e5ec-4043-4d0c-9c33-f37089cdd505",
   "metadata": {},
   "source": [
    "<br>\n",
    "\n",
    "---\n",
    "\n",
    "## References\n",
    "\n",
    "---\n",
    "\n",
    "CAO homepage - http://www.cao.ie/index.php\n",
    "\n",
    "pandas.read_excel - https://pandas.pydata.org/pandas-docs/stable/reference/api/pandas.read_excel.html\n",
    "\n",
    "Adding new column to existing DataFrame in Pandas - https://www.geeksforgeeks.org/adding-new-column-to-existing-dataframe-in-pandas/\n",
    "\n",
    "pandas.DataFrame.combine - https://pandas.pydata.org/docs/reference/api/pandas.DataFrame.combine.html\n",
    "\n",
    "Pandas plot value counts barplot in descending manner - https://stackoverflow.com/questions/49059956/pandas-plot-value-counts-barplot-in-descending-manner\n",
    "\n",
    "Remove characters from pandas column - https://pretagteam.com/question/remove-characters-from-pandas-column\n",
    "\n",
    "Tabula - https://github.com/chezou/tabula-py\n",
    "\n",
    "pandas.DataFrame.dropna - https://pandas.pydata.org/pandas-docs/stable/reference/api/pandas.DataFrame.dropna.html\n",
    "\n",
    "Pandas convert dtype 'object' to int - https://stackoverflow.com/questions/39173813/pandas-convert-dtype-object-to-int\n",
    "\n",
    "---"
   ]
  },
  {
   "cell_type": "markdown",
   "id": "5a765dc9-b9fa-4e65-aadc-9eb5c65bf56f",
   "metadata": {},
   "source": [
    "# THE END"
   ]
  }
 ],
 "metadata": {
  "kernelspec": {
   "display_name": "Python 3 (ipykernel)",
   "language": "python",
   "name": "python3"
  },
  "language_info": {
   "codemirror_mode": {
    "name": "ipython",
    "version": 3
   },
   "file_extension": ".py",
   "mimetype": "text/x-python",
   "name": "python",
   "nbconvert_exporter": "python",
   "pygments_lexer": "ipython3",
   "version": "3.9.7"
  }
 },
 "nbformat": 4,
 "nbformat_minor": 5
}
