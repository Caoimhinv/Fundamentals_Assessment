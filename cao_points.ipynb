{
 "cells": [
  {
   "cell_type": "markdown",
   "id": "5bf26312-ed3b-4e4e-b3cd-ccf01b59a95a",
   "metadata": {
    "tags": []
   },
   "source": [
    "# CAO Points Analysis\n",
    "\n",
    "http://www.cao.ie/index.php?page=points&p=2021\n",
    "\n",
    "---"
   ]
  },
  {
   "cell_type": "code",
   "execution_count": 1,
   "id": "92597986-2775-4435-ae7e-c269bb709fda",
   "metadata": {},
   "outputs": [],
   "source": [
    "# Dates and times\n",
    "import datetime as dt\n",
    "\n",
    "# regular expressions\n",
    "import re\n",
    "\n",
    "# Convenient for HTTP requests\n",
    "import requests as rq"
   ]
  },
  {
   "cell_type": "code",
   "execution_count": 2,
   "id": "57233b15-3a2d-436c-9b9c-3584d28c348b",
   "metadata": {},
   "outputs": [
    {
     "data": {
      "text/plain": [
       "<Response [200]>"
      ]
     },
     "execution_count": 2,
     "metadata": {},
     "output_type": "execute_result"
    }
   ],
   "source": [
    "# fetch the cao url\n",
    "resp = rq.get('http://www2.cao.ie/points/l8.php')\n",
    "# have a quick peek\n",
    "resp"
   ]
  },
  {
   "cell_type": "markdown",
   "id": "aacffad8-7edc-4ee0-9858-23eeda7af3a6",
   "metadata": {
    "tags": []
   },
   "source": [
    "<br>\n",
    "\n",
    "## Save original data set"
   ]
  },
  {
   "cell_type": "code",
   "execution_count": 3,
   "id": "61c045be-6d86-4427-a591-140e566e1561",
   "metadata": {},
   "outputs": [],
   "source": [
    "# get the current date and time\n",
    "now = dt.datetime.now()\n",
    "\n",
    "# format as a string\n",
    "nowstr = now.strftime('%Y%m%d_%H%M%S')"
   ]
  },
  {
   "cell_type": "code",
   "execution_count": 4,
   "id": "1d7b6ce8-cb3b-4e4e-9e80-53d2ef4cc42b",
   "metadata": {},
   "outputs": [],
   "source": [
    "# Create a filepath for the original data\n",
    "path = 'data/CAO2021_' + nowstr + '.html'"
   ]
  },
  {
   "cell_type": "markdown",
   "id": "84ab3dcf-8a7e-49da-9190-549b3ee1eeca",
   "metadata": {},
   "source": [
    "## Error on server\n",
    "explain!"
   ]
  },
  {
   "cell_type": "code",
   "execution_count": 5,
   "id": "445036da-e60f-4c8b-97db-7e777fd60c2b",
   "metadata": {},
   "outputs": [],
   "source": [
    "# the server uses the wrong encoding, fix it\n",
    "original_encoding = resp.encoding\n",
    "# change to cp1252\n",
    "resp.encoding = 'cp1252'"
   ]
  },
  {
   "cell_type": "code",
   "execution_count": 6,
   "id": "3058eb44-3591-4fa5-8380-f929f8e1bc76",
   "metadata": {},
   "outputs": [],
   "source": [
    "# save the original html file\n",
    "with open(path, 'w') as f:\n",
    "    f.write(resp.text)"
   ]
  },
  {
   "cell_type": "code",
   "execution_count": null,
   "id": "88e75cb2-7565-4395-896a-5f5dea8b38c1",
   "metadata": {},
   "outputs": [],
   "source": []
  },
  {
   "cell_type": "markdown",
   "id": "4a0c290d-d0ae-4954-8b84-55c271c34e31",
   "metadata": {},
   "source": [
    "<br>\n",
    "\n",
    "## Use regular expressions to select lines we want\n",
    "___"
   ]
  },
  {
   "cell_type": "code",
   "execution_count": 7,
   "id": "a7017473-5b4e-4aa1-9284-bf8524c127b9",
   "metadata": {},
   "outputs": [],
   "source": [
    "# compile the regular expression for matching lines\n",
    "\n",
    "# ([A-Z]{2}[0-9]{3}) = represents course code - i.e. CW078\n",
    "# followed by 2 spaces\n",
    "# (.*) represents amount of text. dot(.) = wildcard. *=zero or more of\n",
    "# ([0-9]{3}) = 3 digit number (points)\n",
    "# (\\*) = literal asterisk(? = O or 1 of)\n",
    "# (space + *) any amount of spaces\n",
    "re_course = re.compile(r'([A-Z]{2}[0-9]{3})  (.*)([0-9]{3})(\\*?) *')"
   ]
  },
  {
   "cell_type": "markdown",
   "id": "8eb51095-4347-4790-8813-f78bdb950813",
   "metadata": {
    "tags": []
   },
   "source": [
    "### Loop through the lines of the response \n",
    "___"
   ]
  },
  {
   "cell_type": "code",
   "execution_count": 8,
   "id": "a25cdb3f-5aac-4e73-9d56-1b06103518f0",
   "metadata": {
    "scrolled": true,
    "tags": []
   },
   "outputs": [
    {
     "name": "stdout",
     "output_type": "stream",
     "text": [
      "Total number of lines is 922.\n"
     ]
    }
   ],
   "source": [
    "#clean all up!\n",
    "\n",
    "# path for csv file\n",
    "path = 'data/CAO2021_csv_' + nowstr + '.csv'\n",
    "\n",
    "# keep track of courses\n",
    "no_lines = 0\n",
    "\n",
    "with open(path, 'w') as f:\n",
    "    for line in resp.iter_lines():\n",
    "        dline = line.decode('cp1252')\n",
    "        # match only the lines we want - ones representing courses\n",
    "        if re_course.fullmatch(dline):\n",
    "            # add to line counter\n",
    "            no_lines = no_lines + 1\n",
    "            csv_version = re_course.sub(r'\\1,\\2,\\3,\\4', dline)\n",
    "            # split the line on 2 spaces or more\n",
    "            linesplit = re.split('  +', dline)\n",
    "            f.write(','.join(linesplit) + '\\n')\n",
    "    \n",
    "print(f\"Total number of lines is {no_lines}.\")"
   ]
  },
  {
   "cell_type": "markdown",
   "id": "8ccb1269-6f45-4d07-b70a-2f493330deaa",
   "metadata": {},
   "source": [
    "# End"
   ]
  }
 ],
 "metadata": {
  "kernelspec": {
   "display_name": "Python 3",
   "language": "python",
   "name": "python3"
  },
  "language_info": {
   "codemirror_mode": {
    "name": "ipython",
    "version": 3
   },
   "file_extension": ".py",
   "mimetype": "text/x-python",
   "name": "python",
   "nbconvert_exporter": "python",
   "pygments_lexer": "ipython3",
   "version": "3.8.8"
  }
 },
 "nbformat": 4,
 "nbformat_minor": 5
}
